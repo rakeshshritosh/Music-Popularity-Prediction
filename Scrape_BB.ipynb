{
 "cells": [
  {
   "cell_type": "code",
   "execution_count": 1,
   "metadata": {
    "collapsed": true
   },
   "outputs": [],
   "source": [
    "import requests\n",
    "from bs4 import BeautifulSoup\n",
    "import re\n",
    "import pandas as pd\n",
    "import pickle\n",
    "import string\n",
    "from dateutil import parser"
   ]
  },
  {
   "cell_type": "code",
   "execution_count": 2,
   "metadata": {
    "collapsed": true
   },
   "outputs": [],
   "source": [
    "def get_soup(start_url):\n",
    "    response = requests.get(start_url)\n",
    "    page = response.text\n",
    "    return BeautifulSoup(page, \"lxml\")"
   ]
  },
  {
   "cell_type": "markdown",
   "metadata": {},
   "source": [
    "### A function to create list of Billboard Hot 100 urls that catalogue each song going back to 1958"
   ]
  },
  {
   "cell_type": "code",
   "execution_count": 3,
   "metadata": {
    "collapsed": false,
    "scrolled": false
   },
   "outputs": [],
   "source": [
    "from datetime import date, datetime, timedelta\n",
    "\n",
    "def perdelta(start, end, delta):\n",
    "    curr = start\n",
    "    while curr < end:\n",
    "        yield curr\n",
    "        curr += delta\n",
    "\n",
    "urls = []\n",
    "for suffix in perdelta(date(1958, 8, 9), date(2012, 12, 31), timedelta(days=7)):\n",
    "    prefix = 'http://www.billboard.com/charts/hot-100/'\n",
    "    link = prefix + str(suffix)\n",
    "    urls.append(link)\n"
   ]
  },
  {
   "cell_type": "code",
   "execution_count": 4,
   "metadata": {
    "collapsed": false
   },
   "outputs": [
    {
     "data": {
      "text/plain": [
       "['http://www.billboard.com/charts/hot-100/1958-08-09',\n",
       " 'http://www.billboard.com/charts/hot-100/1958-08-16',\n",
       " 'http://www.billboard.com/charts/hot-100/1958-08-23']"
      ]
     },
     "execution_count": 4,
     "metadata": {},
     "output_type": "execute_result"
    }
   ],
   "source": [
    "urls[:3]"
   ]
  },
  {
   "cell_type": "code",
   "execution_count": 5,
   "metadata": {
    "collapsed": false
   },
   "outputs": [],
   "source": [
    "def get_artist(soup):\n",
    "    artist = soup.find_all(class_=\"chart-row__artist\")\n",
    "    artists = []\n",
    "    for item in artist:\n",
    "        item = item.text.strip()\n",
    "        artists.append(item)\n",
    "    return artists"
   ]
  },
  {
   "cell_type": "code",
   "execution_count": 6,
   "metadata": {
    "collapsed": false
   },
   "outputs": [],
   "source": [
    "def get_track(soup):\n",
    "    track = soup.find_all(class_=\"chart-row__song\")\n",
    "    tracks = []\n",
    "    for item in track:\n",
    "        item = item.text.strip()\n",
    "        tracks.append(item)\n",
    "    return tracks\n"
   ]
  },
  {
   "cell_type": "markdown",
   "metadata": {},
   "source": [
    "### Get artist and track title from each url. Append to list of dataframes, merge the dataframes and write to a flat file"
   ]
  },
  {
   "cell_type": "code",
   "execution_count": 7,
   "metadata": {
    "collapsed": false
   },
   "outputs": [],
   "source": [
    "\n",
    "frames = []\n",
    "billboard_dict = {}\n",
    "for url in urls:\n",
    "    soup = get_soup(url)\n",
    "    artist = get_artist(soup)\n",
    "    track = get_track(soup)\n",
    "    dates = [parser.parse(url.split('/')[5])]*len(artist)\n",
    "    df = pd.DataFrame({'artist': artist, 'track': track, 'publish_date': dates})\n",
    "\n",
    "    frames.append(df)\n",
    "    "
   ]
  },
  {
   "cell_type": "code",
   "execution_count": 9,
   "metadata": {
    "collapsed": false
   },
   "outputs": [],
   "source": [
    "df_merge = pd.concat(frames).reset_index(drop=True)"
   ]
  },
  {
   "cell_type": "code",
   "execution_count": 237,
   "metadata": {
    "collapsed": true
   },
   "outputs": [],
   "source": [
    "# import pickle\n",
    "# with open('dataframes/billboard_rawdf.pkl', 'wb') as picklefile:\n",
    "#     pickle.dump(df_merge, picklefile)"
   ]
  },
  {
   "cell_type": "code",
   "execution_count": null,
   "metadata": {
    "collapsed": true
   },
   "outputs": [],
   "source": [
    "# with open('dataframes/billboard_rawdf.pkl', 'rb') as picklefile:\n",
    "#     df_bb = pickle.load(picklefile, encoding=\"utf-8\")"
   ]
  },
  {
   "cell_type": "code",
   "execution_count": 10,
   "metadata": {
    "collapsed": true
   },
   "outputs": [],
   "source": [
    "df2 = df_merge.drop_duplicates(['track'], keep='first').reset_index(drop=True)"
   ]
  },
  {
   "cell_type": "code",
   "execution_count": 15,
   "metadata": {
    "collapsed": true
   },
   "outputs": [],
   "source": [
    "with open('dataframes/billboard_unique.pkl', 'wb') as picklefile:\n",
    "    pickle.dump(df2, picklefile)"
   ]
  },
  {
   "cell_type": "code",
   "execution_count": 16,
   "metadata": {},
   "outputs": [],
   "source": [
    "def text_clean(x):\n",
    "    try:\n",
    "        x = x.decode('utf-8')\n",
    "    except:\n",
    "        None\n",
    "    return x\n",
    "\n",
    "df2 = df2.applymap(text_clean)"
   ]
  },
  {
   "cell_type": "code",
   "execution_count": 17,
   "metadata": {},
   "outputs": [
    {
     "data": {
      "text/html": [
       "<div>\n",
       "<style>\n",
       "    .dataframe thead tr:only-child th {\n",
       "        text-align: right;\n",
       "    }\n",
       "\n",
       "    .dataframe thead th {\n",
       "        text-align: left;\n",
       "    }\n",
       "\n",
       "    .dataframe tbody tr th {\n",
       "        vertical-align: top;\n",
       "    }\n",
       "</style>\n",
       "<table border=\"1\" class=\"dataframe\">\n",
       "  <thead>\n",
       "    <tr style=\"text-align: right;\">\n",
       "      <th></th>\n",
       "      <th>artist</th>\n",
       "      <th>publish_date</th>\n",
       "      <th>track</th>\n",
       "    </tr>\n",
       "  </thead>\n",
       "  <tbody>\n",
       "    <tr>\n",
       "      <th>0</th>\n",
       "      <td>Ricky Nelson</td>\n",
       "      <td>1958-08-09</td>\n",
       "      <td>Poor Little Fool</td>\n",
       "    </tr>\n",
       "    <tr>\n",
       "      <th>1</th>\n",
       "      <td>Domenico Modugno</td>\n",
       "      <td>1958-08-09</td>\n",
       "      <td>Nel Blu Dipinto Di Blu (Volaré)</td>\n",
       "    </tr>\n",
       "    <tr>\n",
       "      <th>2</th>\n",
       "      <td>Perez Prado And His Orchestra</td>\n",
       "      <td>1958-08-09</td>\n",
       "      <td>Patricia</td>\n",
       "    </tr>\n",
       "    <tr>\n",
       "      <th>3</th>\n",
       "      <td>Bobby Darin</td>\n",
       "      <td>1958-08-09</td>\n",
       "      <td>Splish Splash</td>\n",
       "    </tr>\n",
       "    <tr>\n",
       "      <th>4</th>\n",
       "      <td>Kalin Twins</td>\n",
       "      <td>1958-08-09</td>\n",
       "      <td>When</td>\n",
       "    </tr>\n",
       "  </tbody>\n",
       "</table>\n",
       "</div>"
      ],
      "text/plain": [
       "                          artist publish_date                            track\n",
       "0                   Ricky Nelson   1958-08-09                 Poor Little Fool\n",
       "1               Domenico Modugno   1958-08-09  Nel Blu Dipinto Di Blu (Volaré)\n",
       "2  Perez Prado And His Orchestra   1958-08-09                         Patricia\n",
       "3                    Bobby Darin   1958-08-09                    Splish Splash\n",
       "4                    Kalin Twins   1958-08-09                             When"
      ]
     },
     "execution_count": 17,
     "metadata": {},
     "output_type": "execute_result"
    }
   ],
   "source": [
    "df2.head()"
   ]
  },
  {
   "cell_type": "code",
   "execution_count": 19,
   "metadata": {},
   "outputs": [],
   "source": [
    "df2.to_csv(\"HotSongsBillBoard.csv\", encoding=\"utf-8\", index = False)"
   ]
  },
  {
   "cell_type": "code",
   "execution_count": null,
   "metadata": {},
   "outputs": [],
   "source": []
  }
 ],
 "metadata": {
  "kernelspec": {
   "display_name": "Python 3",
   "language": "python",
   "name": "python3"
  },
  "language_info": {
   "codemirror_mode": {
    "name": "ipython",
    "version": 3
   },
   "file_extension": ".py",
   "mimetype": "text/x-python",
   "name": "python",
   "nbconvert_exporter": "python",
   "pygments_lexer": "ipython3",
   "version": "3.6.3"
  }
 },
 "nbformat": 4,
 "nbformat_minor": 2
}
