{
 "cells": [
  {
   "cell_type": "code",
   "execution_count": 1,
   "metadata": {},
   "outputs": [],
   "source": [
    "import pandas as pd\n",
    "from sklearn.metrics import roc_auc_score\n",
    "import numpy as np\n",
    "import seaborn as sns\n",
    "import matplotlib\n",
    "from sklearn import metrics\n",
    "from sklearn.metrics import accuracy_score\n",
    "from sklearn.model_selection import cross_val_score, GridSearchCV\n",
    "import matplotlib.pyplot as plt\n",
    "import xgboost as xgb\n",
    "from xgboost.sklearn import XGBRegressor\n",
    "from xgboost.sklearn import XGBClassifier\n",
    "from sklearn.model_selection import KFold\n",
    "from sklearn.ensemble import RandomForestClassifier\n",
    "import copy\n",
    "from sklearn.model_selection import train_test_split\n",
    "from sklearn import svm\n",
    "from sklearn import preprocessing\n",
    "from sklearn.ensemble import RandomForestClassifier"
   ]
  },
  {
   "cell_type": "markdown",
   "metadata": {},
   "source": [
    "## Data Exploration\n"
   ]
  },
  {
   "cell_type": "code",
   "execution_count": 2,
   "metadata": {},
   "outputs": [
    {
     "data": {
      "text/html": [
       "<div>\n",
       "<style>\n",
       "    .dataframe thead tr:only-child th {\n",
       "        text-align: right;\n",
       "    }\n",
       "\n",
       "    .dataframe thead th {\n",
       "        text-align: left;\n",
       "    }\n",
       "\n",
       "    .dataframe tbody tr th {\n",
       "        vertical-align: top;\n",
       "    }\n",
       "</style>\n",
       "<table border=\"1\" class=\"dataframe\">\n",
       "  <thead>\n",
       "    <tr style=\"text-align: right;\">\n",
       "      <th></th>\n",
       "      <th>artist_familiarity</th>\n",
       "      <th>artist_hotttnesss</th>\n",
       "      <th>artist_id</th>\n",
       "      <th>artist_latitude</th>\n",
       "      <th>artist_location</th>\n",
       "      <th>artist_longitude</th>\n",
       "      <th>artist_name</th>\n",
       "      <th>duration</th>\n",
       "      <th>end_of_fade_in</th>\n",
       "      <th>key</th>\n",
       "      <th>...</th>\n",
       "      <th>mode_confidence</th>\n",
       "      <th>release</th>\n",
       "      <th>song_hotttnesss</th>\n",
       "      <th>start_of_fade_out</th>\n",
       "      <th>tempo</th>\n",
       "      <th>time_signature</th>\n",
       "      <th>time_signature_confidence</th>\n",
       "      <th>title</th>\n",
       "      <th>year</th>\n",
       "      <th>bbhot</th>\n",
       "    </tr>\n",
       "  </thead>\n",
       "  <tbody>\n",
       "    <tr>\n",
       "      <th>0</th>\n",
       "      <td>0.780462</td>\n",
       "      <td>0.574275</td>\n",
       "      <td>ARMQHX71187B9890D3</td>\n",
       "      <td>NaN</td>\n",
       "      <td>Atlanta, GA</td>\n",
       "      <td>NaN</td>\n",
       "      <td>Mastodon</td>\n",
       "      <td>280.21506</td>\n",
       "      <td>0.238</td>\n",
       "      <td>5</td>\n",
       "      <td>...</td>\n",
       "      <td>0.500</td>\n",
       "      <td>Call of the Mastodon</td>\n",
       "      <td>0.597641</td>\n",
       "      <td>275.528</td>\n",
       "      <td>173.205</td>\n",
       "      <td>5</td>\n",
       "      <td>0.120</td>\n",
       "      <td>Deep Sea Creature</td>\n",
       "      <td>2001</td>\n",
       "      <td>0</td>\n",
       "    </tr>\n",
       "    <tr>\n",
       "      <th>1</th>\n",
       "      <td>0.581794</td>\n",
       "      <td>0.401998</td>\n",
       "      <td>ARD7TVE1187B99BFB1</td>\n",
       "      <td>NaN</td>\n",
       "      <td>California - LA</td>\n",
       "      <td>NaN</td>\n",
       "      <td>Casual</td>\n",
       "      <td>218.93179</td>\n",
       "      <td>0.247</td>\n",
       "      <td>1</td>\n",
       "      <td>...</td>\n",
       "      <td>0.636</td>\n",
       "      <td>Fear Itself</td>\n",
       "      <td>0.602120</td>\n",
       "      <td>218.932</td>\n",
       "      <td>92.198</td>\n",
       "      <td>4</td>\n",
       "      <td>0.778</td>\n",
       "      <td>I Didn't Mean To</td>\n",
       "      <td>0</td>\n",
       "      <td>0</td>\n",
       "    </tr>\n",
       "    <tr>\n",
       "      <th>2</th>\n",
       "      <td>0.630630</td>\n",
       "      <td>0.417500</td>\n",
       "      <td>ARMJAGH1187FB546F3</td>\n",
       "      <td>35.14968</td>\n",
       "      <td>Memphis, TN</td>\n",
       "      <td>-90.04892</td>\n",
       "      <td>The Box Tops</td>\n",
       "      <td>148.03546</td>\n",
       "      <td>0.148</td>\n",
       "      <td>6</td>\n",
       "      <td>...</td>\n",
       "      <td>0.430</td>\n",
       "      <td>Dimensions</td>\n",
       "      <td>NaN</td>\n",
       "      <td>137.915</td>\n",
       "      <td>121.274</td>\n",
       "      <td>4</td>\n",
       "      <td>0.384</td>\n",
       "      <td>Soul Deep</td>\n",
       "      <td>1969</td>\n",
       "      <td>1</td>\n",
       "    </tr>\n",
       "    <tr>\n",
       "      <th>3</th>\n",
       "      <td>0.487357</td>\n",
       "      <td>0.343428</td>\n",
       "      <td>ARKRRTF1187B9984DA</td>\n",
       "      <td>NaN</td>\n",
       "      <td>NaN</td>\n",
       "      <td>NaN</td>\n",
       "      <td>Sonora Santanera</td>\n",
       "      <td>177.47546</td>\n",
       "      <td>0.282</td>\n",
       "      <td>8</td>\n",
       "      <td>...</td>\n",
       "      <td>0.565</td>\n",
       "      <td>Las Numero 1 De La Sonora Santanera</td>\n",
       "      <td>NaN</td>\n",
       "      <td>172.304</td>\n",
       "      <td>100.070</td>\n",
       "      <td>1</td>\n",
       "      <td>0.000</td>\n",
       "      <td>Amor De Cabaret</td>\n",
       "      <td>0</td>\n",
       "      <td>0</td>\n",
       "    </tr>\n",
       "    <tr>\n",
       "      <th>4</th>\n",
       "      <td>0.630382</td>\n",
       "      <td>0.454231</td>\n",
       "      <td>AR7G5I41187FB4CE6C</td>\n",
       "      <td>NaN</td>\n",
       "      <td>London, England</td>\n",
       "      <td>NaN</td>\n",
       "      <td>Adam Ant</td>\n",
       "      <td>233.40363</td>\n",
       "      <td>0.000</td>\n",
       "      <td>0</td>\n",
       "      <td>...</td>\n",
       "      <td>0.749</td>\n",
       "      <td>Friend Or Foe</td>\n",
       "      <td>NaN</td>\n",
       "      <td>217.124</td>\n",
       "      <td>119.293</td>\n",
       "      <td>4</td>\n",
       "      <td>0.000</td>\n",
       "      <td>Something Girls</td>\n",
       "      <td>1982</td>\n",
       "      <td>0</td>\n",
       "    </tr>\n",
       "  </tbody>\n",
       "</table>\n",
       "<p>5 rows × 23 columns</p>\n",
       "</div>"
      ],
      "text/plain": [
       "   artist_familiarity  artist_hotttnesss           artist_id  artist_latitude  \\\n",
       "0            0.780462           0.574275  ARMQHX71187B9890D3              NaN   \n",
       "1            0.581794           0.401998  ARD7TVE1187B99BFB1              NaN   \n",
       "2            0.630630           0.417500  ARMJAGH1187FB546F3         35.14968   \n",
       "3            0.487357           0.343428  ARKRRTF1187B9984DA              NaN   \n",
       "4            0.630382           0.454231  AR7G5I41187FB4CE6C              NaN   \n",
       "\n",
       "   artist_location  artist_longitude       artist_name   duration  \\\n",
       "0      Atlanta, GA               NaN          Mastodon  280.21506   \n",
       "1  California - LA               NaN            Casual  218.93179   \n",
       "2      Memphis, TN         -90.04892      The Box Tops  148.03546   \n",
       "3              NaN               NaN  Sonora Santanera  177.47546   \n",
       "4  London, England               NaN          Adam Ant  233.40363   \n",
       "\n",
       "   end_of_fade_in  key  ...    mode_confidence  \\\n",
       "0           0.238    5  ...              0.500   \n",
       "1           0.247    1  ...              0.636   \n",
       "2           0.148    6  ...              0.430   \n",
       "3           0.282    8  ...              0.565   \n",
       "4           0.000    0  ...              0.749   \n",
       "\n",
       "                               release  song_hotttnesss  start_of_fade_out  \\\n",
       "0                 Call of the Mastodon         0.597641            275.528   \n",
       "1                          Fear Itself         0.602120            218.932   \n",
       "2                           Dimensions              NaN            137.915   \n",
       "3  Las Numero 1 De La Sonora Santanera              NaN            172.304   \n",
       "4                        Friend Or Foe              NaN            217.124   \n",
       "\n",
       "     tempo  time_signature  time_signature_confidence              title  \\\n",
       "0  173.205               5                      0.120  Deep Sea Creature   \n",
       "1   92.198               4                      0.778   I Didn't Mean To   \n",
       "2  121.274               4                      0.384          Soul Deep   \n",
       "3  100.070               1                      0.000    Amor De Cabaret   \n",
       "4  119.293               4                      0.000    Something Girls   \n",
       "\n",
       "   year  bbhot  \n",
       "0  2001      0  \n",
       "1     0      0  \n",
       "2  1969      1  \n",
       "3     0      0  \n",
       "4  1982      0  \n",
       "\n",
       "[5 rows x 23 columns]"
      ]
     },
     "execution_count": 2,
     "metadata": {},
     "output_type": "execute_result"
    }
   ],
   "source": [
    "data = pd.read_csv(\"SimpleDataSetWithNewTarget.csv\")\n",
    "data.head()"
   ]
  },
  {
   "cell_type": "code",
   "execution_count": 3,
   "metadata": {},
   "outputs": [],
   "source": [
    "#Encode artist id into quantitative\n",
    "le = preprocessing.LabelEncoder()\n",
    "data['artist_id'] = le.fit_transform(data['artist_id'].astype('str'))"
   ]
  },
  {
   "cell_type": "code",
   "execution_count": 9,
   "metadata": {},
   "outputs": [],
   "source": [
    "#graph distribution of an attribute of songs that are hot\n",
    "def freq(col):\n",
    "   g = sns.kdeplot(data[col][(data[\"bbhot\"] == 1)], color=\"Blue\", shade = True)\n",
    "   g.set_xlabel(col)\n",
    "   g.set_ylabel(\"Frequency\")\n",
    "   g = g.legend([\"1\"])\n",
    "   plt.show()"
   ]
  },
  {
   "cell_type": "code",
   "execution_count": 10,
   "metadata": {},
   "outputs": [
    {
     "data": {
      "image/png": "[encoded data removed]",
      "text/plain": [
       "<matplotlib.figure.Figure at 0x26416bec668>"
      ]
     },
     "metadata": {},
     "output_type": "display_data"
    }
   ],
   "source": [
    "freq(\"tempo\")"
   ]
  },
  {
   "cell_type": "code",
   "execution_count": 11,
   "metadata": {},
   "outputs": [
    {
     "data": {
      "image/png": "[encoded data removed]",
      "text/plain": [
       "<matplotlib.figure.Figure at 0x26416a2f390>"
      ]
     },
     "metadata": {},
     "output_type": "display_data"
    }
   ],
   "source": [
    "freq(\"duration\")"
   ]
  },
  {
   "cell_type": "code",
   "execution_count": 12,
   "metadata": {},
   "outputs": [
    {
     "data": {
      "image/png": "[encoded data removed]",
      "text/plain": [
       "<matplotlib.figure.Figure at 0x26416ba60f0>"
      ]
     },
     "metadata": {},
     "output_type": "display_data"
    }
   ],
   "source": [
    "freq(\"start_of_fade_out\")"
   ]
  },
  {
   "cell_type": "code",
   "execution_count": 13,
   "metadata": {},
   "outputs": [
    {
     "data": {
      "image/png": "[encoded data removed]",
      "text/plain": [
       "<matplotlib.figure.Figure at 0x26416d9a518>"
      ]
     },
     "metadata": {},
     "output_type": "display_data"
    }
   ],
   "source": [
    "freq(\"end_of_fade_in\")"
   ]
  },
  {
   "cell_type": "code",
   "execution_count": 14,
   "metadata": {},
   "outputs": [
    {
     "data": {
      "image/png": "[encoded data removed]",
      "text/plain": [
       "<matplotlib.figure.Figure at 0x264171570b8>"
      ]
     },
     "metadata": {},
     "output_type": "display_data"
    }
   ],
   "source": [
    "freq(\"mode_confidence\")"
   ]
  },
  {
   "cell_type": "code",
   "execution_count": 15,
   "metadata": {},
   "outputs": [
    {
     "data": {
      "image/png": "[encoded data removed]",
      "text/plain": [
       "<matplotlib.figure.Figure at 0x26417174198>"
      ]
     },
     "metadata": {},
     "output_type": "display_data"
    }
   ],
   "source": [
    "freq(\"time_signature_confidence\")"
   ]
  },
  {
   "cell_type": "code",
   "execution_count": null,
   "metadata": {},
   "outputs": [],
   "source": []
  },
  {
   "cell_type": "code",
   "execution_count": null,
   "metadata": {},
   "outputs": [],
   "source": []
  },
  {
   "cell_type": "code",
   "execution_count": null,
   "metadata": {},
   "outputs": [],
   "source": []
  },
  {
   "cell_type": "code",
   "execution_count": 99,
   "metadata": {},
   "outputs": [
    {
     "name": "stdout",
     "output_type": "stream",
     "text": [
      "<class 'pandas.core.frame.DataFrame'>\n",
      "RangeIndex: 10001 entries, 0 to 10000\n",
      "Data columns (total 23 columns):\n",
      "artist_familiarity           9997 non-null float64\n",
      "artist_hotttnesss            10001 non-null float64\n",
      "artist_id                    10001 non-null int64\n",
      "artist_latitude              3742 non-null float64\n",
      "artist_location              5709 non-null object\n",
      "artist_longitude             3742 non-null float64\n",
      "artist_name                  10001 non-null object\n",
      "duration                     10001 non-null float64\n",
      "end_of_fade_in               10001 non-null float64\n",
      "key                          10001 non-null int64\n",
      "key_confidence               10001 non-null float64\n",
      "loudness                     10001 non-null float64\n",
      "mode                         10001 non-null int64\n",
      "mode_confidence              10001 non-null float64\n",
      "release                      10001 non-null object\n",
      "song_hotttnesss              5649 non-null float64\n",
      "start_of_fade_out            10001 non-null float64\n",
      "tempo                        10001 non-null float64\n",
      "time_signature               10001 non-null int64\n",
      "time_signature_confidence    10001 non-null float64\n",
      "title                        10000 non-null object\n",
      "year                         10001 non-null int64\n",
      "bbhot                        10001 non-null int64\n",
      "dtypes: float64(13), int64(6), object(4)\n",
      "memory usage: 1.8+ MB\n"
     ]
    }
   ],
   "source": [
    "data.info()"
   ]
  },
  {
   "cell_type": "code",
   "execution_count": 4,
   "metadata": {},
   "outputs": [],
   "source": [
    "drop_list = ['artist_location', 'artist_latitude', 'artist_longitude','artist_name', 'release', 'title' ,'song_hotttnesss']\n",
    "train = data.drop(drop_list, axis=1)"
   ]
  },
  {
   "cell_type": "code",
   "execution_count": 5,
   "metadata": {},
   "outputs": [
    {
     "name": "stdout",
     "output_type": "stream",
     "text": [
      "<class 'pandas.core.frame.DataFrame'>\n",
      "RangeIndex: 10001 entries, 0 to 10000\n",
      "Data columns (total 16 columns):\n",
      "artist_familiarity           9997 non-null float64\n",
      "artist_hotttnesss            10001 non-null float64\n",
      "artist_id                    10001 non-null int64\n",
      "duration                     10001 non-null float64\n",
      "end_of_fade_in               10001 non-null float64\n",
      "key                          10001 non-null int64\n",
      "key_confidence               10001 non-null float64\n",
      "loudness                     10001 non-null float64\n",
      "mode                         10001 non-null int64\n",
      "mode_confidence              10001 non-null float64\n",
      "start_of_fade_out            10001 non-null float64\n",
      "tempo                        10001 non-null float64\n",
      "time_signature               10001 non-null int64\n",
      "time_signature_confidence    10001 non-null float64\n",
      "year                         10001 non-null int64\n",
      "bbhot                        10001 non-null int64\n",
      "dtypes: float64(10), int64(6)\n",
      "memory usage: 1.2 MB\n"
     ]
    }
   ],
   "source": [
    "train.info()"
   ]
  },
  {
   "cell_type": "code",
   "execution_count": 6,
   "metadata": {},
   "outputs": [
    {
     "data": {
      "text/plain": [
       "(10001,)"
      ]
     },
     "execution_count": 6,
     "metadata": {},
     "output_type": "execute_result"
    }
   ],
   "source": [
    "Y = copy.deepcopy(train.bbhot)\n",
    "Y.shape"
   ]
  },
  {
   "cell_type": "code",
   "execution_count": 7,
   "metadata": {},
   "outputs": [],
   "source": [
    "train[\"artist_familiarity\"] = train[\"artist_familiarity\"].fillna(train[\"artist_familiarity\"].median())"
   ]
  },
  {
   "cell_type": "code",
   "execution_count": 8,
   "metadata": {},
   "outputs": [],
   "source": [
    "train1 = train.drop(\"bbhot\", axis=1)"
   ]
  },
  {
   "cell_type": "code",
   "execution_count": 105,
   "metadata": {},
   "outputs": [
    {
     "name": "stdout",
     "output_type": "stream",
     "text": [
      "Accuracy: 87.85%\n"
     ]
    }
   ],
   "source": [
    "X_train, X_test, y_train, y_test = train_test_split(train1, Y, test_size=0.33, random_state=7)\n",
    "model = XGBClassifier()\n",
    "model.fit(X_train, y_train)\n",
    "# make predictions for test data\n",
    "y_pred = model.predict(X_test)\n",
    "accuracy = model.score(X_test, y_test)\n",
    "print(\"Accuracy: %.2f%%\" % (accuracy * 100.0))"
   ]
  },
  {
   "cell_type": "code",
   "execution_count": 9,
   "metadata": {},
   "outputs": [],
   "source": [
    "#Function to evaluate my model with Cross validation\n",
    "from sklearn.model_selection import cross_val_score\n",
    "def testingModel(model, X_train, Y_train):\n",
    "    scores = cross_val_score(model, X_train, Y_train, cv=10, scoring = \"roc_auc\")\n",
    "    print(\"Scores:\", scores)\n",
    "    print(\"Mean:\", scores.mean())\n",
    "    print(\"Standard Deviation:\", scores.std())\n",
    "    return scores.mean()"
   ]
  },
  {
   "cell_type": "code",
   "execution_count": 10,
   "metadata": {},
   "outputs": [
    {
     "name": "stdout",
     "output_type": "stream",
     "text": [
      "Scores: [ 0.61076428  0.62639992  0.62743349  0.66300709  0.63138241  0.61367907\n",
      "  0.56595351  0.59271359  0.60628678  0.57860963]\n",
      "Mean: 0.611622977021\n",
      "Standard Deviation: 0.0265813445285\n"
     ]
    }
   ],
   "source": [
    "#61%\n",
    "rf = RandomForestClassifier(n_estimators=100, oob_score = True)\n",
    "rf.fit(train1, Y)\n",
    "acc_random_forest = testingModel(rf, train1, Y)"
   ]
  },
  {
   "cell_type": "code",
   "execution_count": 11,
   "metadata": {},
   "outputs": [
    {
     "name": "stdout",
     "output_type": "stream",
     "text": [
      "Scores: [ 0.61899357  0.63935868  0.6591631   0.66604031  0.611862    0.67522582\n",
      "  0.59946203  0.59170728  0.63769208  0.62461803]\n",
      "Mean: 0.632412290476\n",
      "Standard Deviation: 0.02676064386\n"
     ]
    }
   ],
   "source": [
    "#63%\n",
    "xgb1 = XGBClassifier(\n",
    " learning_rate =0.1,\n",
    " n_estimators=100,\n",
    " max_depth=5,\n",
    " min_child_weight=1,\n",
    " gamma=0,\n",
    " subsample=0.8,\n",
    " colsample_bytree=0.8,\n",
    " objective= 'binary:logistic',\n",
    " nthread=4,\n",
    " scale_pos_weight=1,\n",
    " seed=27)\n",
    "xgb1.fit(train1, Y)\n",
    "acc_xgb = testingModel(xgb1, train1, Y)"
   ]
  },
  {
   "cell_type": "code",
   "execution_count": 13,
   "metadata": {},
   "outputs": [
    {
     "name": "stdout",
     "output_type": "stream",
     "text": [
      "Scores: [ 0.58188611  0.624423    0.64767882  0.65642557  0.60638694  0.65019697\n",
      "  0.58886483  0.6195309   0.57863009  0.61714095]\n",
      "Mean: 0.617116417974\n",
      "Standard Deviation: 0.026960071908\n"
     ]
    }
   ],
   "source": [
    "from sklearn.linear_model import LogisticRegression\n",
    "logreg = LogisticRegression()\n",
    "\n",
    "logreg.fit(train1, Y)\n",
    "\n",
    "acc_log = testingModel(logreg, train1, Y)"
   ]
  },
  {
   "cell_type": "code",
   "execution_count": 14,
   "metadata": {},
   "outputs": [
    {
     "name": "stdout",
     "output_type": "stream",
     "text": [
      "Scores: [ 0.51177639  0.59330306  0.53027022  0.50722536  0.54007574  0.5620046\n",
      "  0.53808697  0.56188537  0.53357529  0.5486631 ]\n",
      "Mean: 0.542686610812\n",
      "Standard Deviation: 0.0241197399644\n"
     ]
    }
   ],
   "source": [
    "from sklearn.neighbors import KNeighborsClassifier\n",
    "knn = KNeighborsClassifier(n_neighbors = 3)\n",
    "\n",
    "knn.fit(train1, Y)\n",
    "\n",
    "acc_knn = testingModel(knn, train1, Y)"
   ]
  },
  {
   "cell_type": "code",
   "execution_count": 16,
   "metadata": {},
   "outputs": [
    {
     "name": "stdout",
     "output_type": "stream",
     "text": [
      "Scores: [ 0.49802308  0.58885736  0.56909165  0.48250174  0.47540515  0.62875457\n",
      "  0.48459066  0.52271578  0.44768645  0.42871467]\n",
      "Mean: 0.512634110759\n",
      "Standard Deviation: 0.0609406125152\n"
     ]
    }
   ],
   "source": [
    "from sklearn.svm import SVC, LinearSVC\n",
    "linear_svc = LinearSVC()\n",
    "linear_svc.fit(train1, Y)\n",
    "\n",
    "acc_linear_svc = testingModel(linear_svc, train1, Y)"
   ]
  },
  {
   "cell_type": "code",
   "execution_count": 18,
   "metadata": {},
   "outputs": [
    {
     "name": "stdout",
     "output_type": "stream",
     "text": [
      "Scores: [ 0.5137202   0.52015702  0.51126966  0.50957659  0.54080066  0.53954635\n",
      "  0.51172751  0.53307452  0.51025382  0.5122183 ]\n",
      "Mean: 0.520234462503\n",
      "Standard Deviation: 0.0119725710081\n"
     ]
    }
   ],
   "source": [
    "from sklearn.tree import DecisionTreeClassifier\n",
    "decision_tree = DecisionTreeClassifier()\n",
    "decision_tree.fit(train1, Y)\n",
    "\n",
    "acc_decision_tree = testingModel(decision_tree, train1, Y)"
   ]
  },
  {
   "cell_type": "code",
   "execution_count": 20,
   "metadata": {},
   "outputs": [
    {
     "name": "stdout",
     "output_type": "stream",
     "text": [
      "Scores: [ 0.54344495  0.53753311  0.59780234  0.42577667  0.47331623  0.40566011\n",
      "  0.42131268  0.56578182  0.41832715  0.3783518 ]\n",
      "Mean: 0.47673068438\n",
      "Standard Deviation: 0.0738618373643\n"
     ]
    }
   ],
   "source": [
    "from sklearn import linear_model\n",
    "sgd = linear_model.SGDClassifier(max_iter=5, tol=None)\n",
    "acc_sgd = testingModel(sgd, train1, Y)  "
   ]
  },
  {
   "cell_type": "code",
   "execution_count": 23,
   "metadata": {},
   "outputs": [
    {
     "data": {
      "text/html": [
       "<div>\n",
       "<style>\n",
       "    .dataframe thead tr:only-child th {\n",
       "        text-align: right;\n",
       "    }\n",
       "\n",
       "    .dataframe thead th {\n",
       "        text-align: left;\n",
       "    }\n",
       "\n",
       "    .dataframe tbody tr th {\n",
       "        vertical-align: top;\n",
       "    }\n",
       "</style>\n",
       "<table border=\"1\" class=\"dataframe\">\n",
       "  <thead>\n",
       "    <tr style=\"text-align: right;\">\n",
       "      <th></th>\n",
       "      <th>Model</th>\n",
       "    </tr>\n",
       "    <tr>\n",
       "      <th>Score</th>\n",
       "      <th></th>\n",
       "    </tr>\n",
       "  </thead>\n",
       "  <tbody>\n",
       "    <tr>\n",
       "      <th>0.632412</th>\n",
       "      <td>XGB</td>\n",
       "    </tr>\n",
       "    <tr>\n",
       "      <th>0.617116</th>\n",
       "      <td>Logistic Regression</td>\n",
       "    </tr>\n",
       "    <tr>\n",
       "      <th>0.611623</th>\n",
       "      <td>Random Forest</td>\n",
       "    </tr>\n",
       "    <tr>\n",
       "      <th>0.542687</th>\n",
       "      <td>KNN</td>\n",
       "    </tr>\n",
       "    <tr>\n",
       "      <th>0.520234</th>\n",
       "      <td>Decision Tree</td>\n",
       "    </tr>\n",
       "    <tr>\n",
       "      <th>0.512634</th>\n",
       "      <td>Support Vector Machines</td>\n",
       "    </tr>\n",
       "  </tbody>\n",
       "</table>\n",
       "</div>"
      ],
      "text/plain": [
       "                            Model\n",
       "Score                            \n",
       "0.632412                      XGB\n",
       "0.617116      Logistic Regression\n",
       "0.611623            Random Forest\n",
       "0.542687                      KNN\n",
       "0.520234            Decision Tree\n",
       "0.512634  Support Vector Machines"
      ]
     },
     "execution_count": 23,
     "metadata": {},
     "output_type": "execute_result"
    }
   ],
   "source": [
    "results = pd.DataFrame({\n",
    "    'Model': ['Support Vector Machines', 'KNN', 'Logistic Regression', \n",
    "              'Random Forest', 'XGB', \n",
    "              'Decision Tree'],\n",
    "    'Score': [acc_linear_svc, acc_knn, acc_log, \n",
    "              acc_random_forest, acc_xgb, \n",
    "             acc_decision_tree]})\n",
    "result_df = results.sort_values(by='Score', ascending=False)\n",
    "result_df = result_df.set_index('Score')\n",
    "result_df.head(7)"
   ]
  },
  {
   "cell_type": "code",
   "execution_count": 28,
   "metadata": {},
   "outputs": [
    {
     "name": "stderr",
     "output_type": "stream",
     "text": [
      "C:\\Users\\phucd\\Anaconda3\\lib\\site-packages\\sklearn\\model_selection\\_search.py:761: DeprecationWarning: The grid_scores_ attribute was deprecated in version 0.18 in favor of the more elaborate cv_results_ attribute. The grid_scores_ attribute will not be available from 0.20\n",
      "  DeprecationWarning)\n"
     ]
    },
    {
     "data": {
      "text/plain": [
       "([mean: 0.62340, std: 0.01655, params: {'colsample_bytree': 0.6, 'gamma': 0.3, 'max_depth': 2, 'min_child_weight': 4, 'subsample': 0.6},\n",
       "  mean: 0.62614, std: 0.01693, params: {'colsample_bytree': 0.6, 'gamma': 0.3, 'max_depth': 2, 'min_child_weight': 4, 'subsample': 0.7},\n",
       "  mean: 0.63621, std: 0.01855, params: {'colsample_bytree': 0.6, 'gamma': 0.3, 'max_depth': 2, 'min_child_weight': 4, 'subsample': 0.8},\n",
       "  mean: 0.63075, std: 0.01691, params: {'colsample_bytree': 0.6, 'gamma': 0.3, 'max_depth': 2, 'min_child_weight': 4, 'subsample': 0.9},\n",
       "  mean: 0.63782, std: 0.01729, params: {'colsample_bytree': 0.6, 'gamma': 0.3, 'max_depth': 2, 'min_child_weight': 4, 'subsample': 1.0},\n",
       "  mean: 0.62542, std: 0.01568, params: {'colsample_bytree': 0.6, 'gamma': 0.3, 'max_depth': 2, 'min_child_weight': 5, 'subsample': 0.6},\n",
       "  mean: 0.62777, std: 0.01915, params: {'colsample_bytree': 0.6, 'gamma': 0.3, 'max_depth': 2, 'min_child_weight': 5, 'subsample': 0.7},\n",
       "  mean: 0.63313, std: 0.01993, params: {'colsample_bytree': 0.6, 'gamma': 0.3, 'max_depth': 2, 'min_child_weight': 5, 'subsample': 0.8},\n",
       "  mean: 0.63282, std: 0.01633, params: {'colsample_bytree': 0.6, 'gamma': 0.3, 'max_depth': 2, 'min_child_weight': 5, 'subsample': 0.9},\n",
       "  mean: 0.63507, std: 0.01562, params: {'colsample_bytree': 0.6, 'gamma': 0.3, 'max_depth': 2, 'min_child_weight': 5, 'subsample': 1.0},\n",
       "  mean: 0.62041, std: 0.02407, params: {'colsample_bytree': 0.6, 'gamma': 0.3, 'max_depth': 3, 'min_child_weight': 4, 'subsample': 0.6},\n",
       "  mean: 0.62735, std: 0.02281, params: {'colsample_bytree': 0.6, 'gamma': 0.3, 'max_depth': 3, 'min_child_weight': 4, 'subsample': 0.7},\n",
       "  mean: 0.63469, std: 0.02104, params: {'colsample_bytree': 0.6, 'gamma': 0.3, 'max_depth': 3, 'min_child_weight': 4, 'subsample': 0.8},\n",
       "  mean: 0.63166, std: 0.01612, params: {'colsample_bytree': 0.6, 'gamma': 0.3, 'max_depth': 3, 'min_child_weight': 4, 'subsample': 0.9},\n",
       "  mean: 0.63301, std: 0.01637, params: {'colsample_bytree': 0.6, 'gamma': 0.3, 'max_depth': 3, 'min_child_weight': 4, 'subsample': 1.0},\n",
       "  mean: 0.62395, std: 0.01609, params: {'colsample_bytree': 0.6, 'gamma': 0.3, 'max_depth': 3, 'min_child_weight': 5, 'subsample': 0.6},\n",
       "  mean: 0.62877, std: 0.01969, params: {'colsample_bytree': 0.6, 'gamma': 0.3, 'max_depth': 3, 'min_child_weight': 5, 'subsample': 0.7},\n",
       "  mean: 0.62685, std: 0.01655, params: {'colsample_bytree': 0.6, 'gamma': 0.3, 'max_depth': 3, 'min_child_weight': 5, 'subsample': 0.8},\n",
       "  mean: 0.63093, std: 0.02013, params: {'colsample_bytree': 0.6, 'gamma': 0.3, 'max_depth': 3, 'min_child_weight': 5, 'subsample': 0.9},\n",
       "  mean: 0.63027, std: 0.01884, params: {'colsample_bytree': 0.6, 'gamma': 0.3, 'max_depth': 3, 'min_child_weight': 5, 'subsample': 1.0},\n",
       "  mean: 0.61653, std: 0.01857, params: {'colsample_bytree': 0.6, 'gamma': 0.3, 'max_depth': 4, 'min_child_weight': 4, 'subsample': 0.6},\n",
       "  mean: 0.61754, std: 0.01804, params: {'colsample_bytree': 0.6, 'gamma': 0.3, 'max_depth': 4, 'min_child_weight': 4, 'subsample': 0.7},\n",
       "  mean: 0.62501, std: 0.01650, params: {'colsample_bytree': 0.6, 'gamma': 0.3, 'max_depth': 4, 'min_child_weight': 4, 'subsample': 0.8},\n",
       "  mean: 0.62501, std: 0.01588, params: {'colsample_bytree': 0.6, 'gamma': 0.3, 'max_depth': 4, 'min_child_weight': 4, 'subsample': 0.9},\n",
       "  mean: 0.63064, std: 0.02223, params: {'colsample_bytree': 0.6, 'gamma': 0.3, 'max_depth': 4, 'min_child_weight': 4, 'subsample': 1.0},\n",
       "  mean: 0.62147, std: 0.01826, params: {'colsample_bytree': 0.6, 'gamma': 0.3, 'max_depth': 4, 'min_child_weight': 5, 'subsample': 0.6},\n",
       "  mean: 0.61908, std: 0.01655, params: {'colsample_bytree': 0.6, 'gamma': 0.3, 'max_depth': 4, 'min_child_weight': 5, 'subsample': 0.7},\n",
       "  mean: 0.62617, std: 0.01642, params: {'colsample_bytree': 0.6, 'gamma': 0.3, 'max_depth': 4, 'min_child_weight': 5, 'subsample': 0.8},\n",
       "  mean: 0.62540, std: 0.01846, params: {'colsample_bytree': 0.6, 'gamma': 0.3, 'max_depth': 4, 'min_child_weight': 5, 'subsample': 0.9},\n",
       "  mean: 0.62521, std: 0.01293, params: {'colsample_bytree': 0.6, 'gamma': 0.3, 'max_depth': 4, 'min_child_weight': 5, 'subsample': 1.0},\n",
       "  mean: 0.62264, std: 0.01648, params: {'colsample_bytree': 0.6, 'gamma': 0.4, 'max_depth': 2, 'min_child_weight': 4, 'subsample': 0.6},\n",
       "  mean: 0.62509, std: 0.01601, params: {'colsample_bytree': 0.6, 'gamma': 0.4, 'max_depth': 2, 'min_child_weight': 4, 'subsample': 0.7},\n",
       "  mean: 0.63525, std: 0.01830, params: {'colsample_bytree': 0.6, 'gamma': 0.4, 'max_depth': 2, 'min_child_weight': 4, 'subsample': 0.8},\n",
       "  mean: 0.63195, std: 0.01842, params: {'colsample_bytree': 0.6, 'gamma': 0.4, 'max_depth': 2, 'min_child_weight': 4, 'subsample': 0.9},\n",
       "  mean: 0.63743, std: 0.01592, params: {'colsample_bytree': 0.6, 'gamma': 0.4, 'max_depth': 2, 'min_child_weight': 4, 'subsample': 1.0},\n",
       "  mean: 0.62372, std: 0.01500, params: {'colsample_bytree': 0.6, 'gamma': 0.4, 'max_depth': 2, 'min_child_weight': 5, 'subsample': 0.6},\n",
       "  mean: 0.62576, std: 0.01792, params: {'colsample_bytree': 0.6, 'gamma': 0.4, 'max_depth': 2, 'min_child_weight': 5, 'subsample': 0.7},\n",
       "  mean: 0.63340, std: 0.02032, params: {'colsample_bytree': 0.6, 'gamma': 0.4, 'max_depth': 2, 'min_child_weight': 5, 'subsample': 0.8},\n",
       "  mean: 0.63341, std: 0.01709, params: {'colsample_bytree': 0.6, 'gamma': 0.4, 'max_depth': 2, 'min_child_weight': 5, 'subsample': 0.9},\n",
       "  mean: 0.63541, std: 0.01677, params: {'colsample_bytree': 0.6, 'gamma': 0.4, 'max_depth': 2, 'min_child_weight': 5, 'subsample': 1.0},\n",
       "  mean: 0.62342, std: 0.02035, params: {'colsample_bytree': 0.6, 'gamma': 0.4, 'max_depth': 3, 'min_child_weight': 4, 'subsample': 0.6},\n",
       "  mean: 0.62938, std: 0.02049, params: {'colsample_bytree': 0.6, 'gamma': 0.4, 'max_depth': 3, 'min_child_weight': 4, 'subsample': 0.7},\n",
       "  mean: 0.62885, std: 0.02191, params: {'colsample_bytree': 0.6, 'gamma': 0.4, 'max_depth': 3, 'min_child_weight': 4, 'subsample': 0.8},\n",
       "  mean: 0.63346, std: 0.01807, params: {'colsample_bytree': 0.6, 'gamma': 0.4, 'max_depth': 3, 'min_child_weight': 4, 'subsample': 0.9},\n",
       "  mean: 0.63127, std: 0.01522, params: {'colsample_bytree': 0.6, 'gamma': 0.4, 'max_depth': 3, 'min_child_weight': 4, 'subsample': 1.0},\n",
       "  mean: 0.62607, std: 0.01681, params: {'colsample_bytree': 0.6, 'gamma': 0.4, 'max_depth': 3, 'min_child_weight': 5, 'subsample': 0.6},\n",
       "  mean: 0.62481, std: 0.01801, params: {'colsample_bytree': 0.6, 'gamma': 0.4, 'max_depth': 3, 'min_child_weight': 5, 'subsample': 0.7},\n",
       "  mean: 0.63080, std: 0.01901, params: {'colsample_bytree': 0.6, 'gamma': 0.4, 'max_depth': 3, 'min_child_weight': 5, 'subsample': 0.8},\n",
       "  mean: 0.62910, std: 0.02068, params: {'colsample_bytree': 0.6, 'gamma': 0.4, 'max_depth': 3, 'min_child_weight': 5, 'subsample': 0.9},\n",
       "  mean: 0.63131, std: 0.02202, params: {'colsample_bytree': 0.6, 'gamma': 0.4, 'max_depth': 3, 'min_child_weight': 5, 'subsample': 1.0},\n",
       "  mean: 0.61822, std: 0.01594, params: {'colsample_bytree': 0.6, 'gamma': 0.4, 'max_depth': 4, 'min_child_weight': 4, 'subsample': 0.6},\n",
       "  mean: 0.61978, std: 0.01332, params: {'colsample_bytree': 0.6, 'gamma': 0.4, 'max_depth': 4, 'min_child_weight': 4, 'subsample': 0.7},\n",
       "  mean: 0.62728, std: 0.02336, params: {'colsample_bytree': 0.6, 'gamma': 0.4, 'max_depth': 4, 'min_child_weight': 4, 'subsample': 0.8},\n",
       "  mean: 0.62659, std: 0.01618, params: {'colsample_bytree': 0.6, 'gamma': 0.4, 'max_depth': 4, 'min_child_weight': 4, 'subsample': 0.9},\n",
       "  mean: 0.62710, std: 0.02008, params: {'colsample_bytree': 0.6, 'gamma': 0.4, 'max_depth': 4, 'min_child_weight': 4, 'subsample': 1.0},\n",
       "  mean: 0.62114, std: 0.01238, params: {'colsample_bytree': 0.6, 'gamma': 0.4, 'max_depth': 4, 'min_child_weight': 5, 'subsample': 0.6},\n",
       "  mean: 0.61725, std: 0.01447, params: {'colsample_bytree': 0.6, 'gamma': 0.4, 'max_depth': 4, 'min_child_weight': 5, 'subsample': 0.7},\n",
       "  mean: 0.62149, std: 0.02075, params: {'colsample_bytree': 0.6, 'gamma': 0.4, 'max_depth': 4, 'min_child_weight': 5, 'subsample': 0.8},\n",
       "  mean: 0.62842, std: 0.01506, params: {'colsample_bytree': 0.6, 'gamma': 0.4, 'max_depth': 4, 'min_child_weight': 5, 'subsample': 0.9},\n",
       "  mean: 0.62631, std: 0.01765, params: {'colsample_bytree': 0.6, 'gamma': 0.4, 'max_depth': 4, 'min_child_weight': 5, 'subsample': 1.0},\n",
       "  mean: 0.62481, std: 0.01627, params: {'colsample_bytree': 0.6, 'gamma': 0.5, 'max_depth': 2, 'min_child_weight': 4, 'subsample': 0.6},\n",
       "  mean: 0.62526, std: 0.01585, params: {'colsample_bytree': 0.6, 'gamma': 0.5, 'max_depth': 2, 'min_child_weight': 4, 'subsample': 0.7},\n",
       "  mean: 0.63740, std: 0.02119, params: {'colsample_bytree': 0.6, 'gamma': 0.5, 'max_depth': 2, 'min_child_weight': 4, 'subsample': 0.8},\n",
       "  mean: 0.63195, std: 0.01842, params: {'colsample_bytree': 0.6, 'gamma': 0.5, 'max_depth': 2, 'min_child_weight': 4, 'subsample': 0.9},\n",
       "  mean: 0.63743, std: 0.01592, params: {'colsample_bytree': 0.6, 'gamma': 0.5, 'max_depth': 2, 'min_child_weight': 4, 'subsample': 1.0},\n",
       "  mean: 0.62255, std: 0.01471, params: {'colsample_bytree': 0.6, 'gamma': 0.5, 'max_depth': 2, 'min_child_weight': 5, 'subsample': 0.6},\n",
       "  mean: 0.62679, std: 0.01819, params: {'colsample_bytree': 0.6, 'gamma': 0.5, 'max_depth': 2, 'min_child_weight': 5, 'subsample': 0.7},\n",
       "  mean: 0.63281, std: 0.01948, params: {'colsample_bytree': 0.6, 'gamma': 0.5, 'max_depth': 2, 'min_child_weight': 5, 'subsample': 0.8},\n",
       "  mean: 0.63317, std: 0.01701, params: {'colsample_bytree': 0.6, 'gamma': 0.5, 'max_depth': 2, 'min_child_weight': 5, 'subsample': 0.9},\n",
       "  mean: 0.63433, std: 0.01581, params: {'colsample_bytree': 0.6, 'gamma': 0.5, 'max_depth': 2, 'min_child_weight': 5, 'subsample': 1.0},\n",
       "  mean: 0.62216, std: 0.01673, params: {'colsample_bytree': 0.6, 'gamma': 0.5, 'max_depth': 3, 'min_child_weight': 4, 'subsample': 0.6},\n",
       "  mean: 0.62392, std: 0.01669, params: {'colsample_bytree': 0.6, 'gamma': 0.5, 'max_depth': 3, 'min_child_weight': 4, 'subsample': 0.7},\n",
       "  mean: 0.63324, std: 0.02493, params: {'colsample_bytree': 0.6, 'gamma': 0.5, 'max_depth': 3, 'min_child_weight': 4, 'subsample': 0.8},\n",
       "  mean: 0.62889, std: 0.01678, params: {'colsample_bytree': 0.6, 'gamma': 0.5, 'max_depth': 3, 'min_child_weight': 4, 'subsample': 0.9},\n",
       "  mean: 0.63216, std: 0.01696, params: {'colsample_bytree': 0.6, 'gamma': 0.5, 'max_depth': 3, 'min_child_weight': 4, 'subsample': 1.0},\n",
       "  mean: 0.62201, std: 0.01963, params: {'colsample_bytree': 0.6, 'gamma': 0.5, 'max_depth': 3, 'min_child_weight': 5, 'subsample': 0.6},\n",
       "  mean: 0.62699, std: 0.01957, params: {'colsample_bytree': 0.6, 'gamma': 0.5, 'max_depth': 3, 'min_child_weight': 5, 'subsample': 0.7},\n",
       "  mean: 0.63188, std: 0.01571, params: {'colsample_bytree': 0.6, 'gamma': 0.5, 'max_depth': 3, 'min_child_weight': 5, 'subsample': 0.8},\n",
       "  mean: 0.62972, std: 0.01643, params: {'colsample_bytree': 0.6, 'gamma': 0.5, 'max_depth': 3, 'min_child_weight': 5, 'subsample': 0.9},\n",
       "  mean: 0.62944, std: 0.02049, params: {'colsample_bytree': 0.6, 'gamma': 0.5, 'max_depth': 3, 'min_child_weight': 5, 'subsample': 1.0},\n",
       "  mean: 0.62125, std: 0.01503, params: {'colsample_bytree': 0.6, 'gamma': 0.5, 'max_depth': 4, 'min_child_weight': 4, 'subsample': 0.6},\n",
       "  mean: 0.61673, std: 0.01364, params: {'colsample_bytree': 0.6, 'gamma': 0.5, 'max_depth': 4, 'min_child_weight': 4, 'subsample': 0.7},\n",
       "  mean: 0.62767, std: 0.01975, params: {'colsample_bytree': 0.6, 'gamma': 0.5, 'max_depth': 4, 'min_child_weight': 4, 'subsample': 0.8},\n",
       "  mean: 0.62716, std: 0.01755, params: {'colsample_bytree': 0.6, 'gamma': 0.5, 'max_depth': 4, 'min_child_weight': 4, 'subsample': 0.9},\n",
       "  mean: 0.62829, std: 0.02041, params: {'colsample_bytree': 0.6, 'gamma': 0.5, 'max_depth': 4, 'min_child_weight': 4, 'subsample': 1.0},\n",
       "  mean: 0.61452, std: 0.01573, params: {'colsample_bytree': 0.6, 'gamma': 0.5, 'max_depth': 4, 'min_child_weight': 5, 'subsample': 0.6},\n",
       "  mean: 0.61762, std: 0.01432, params: {'colsample_bytree': 0.6, 'gamma': 0.5, 'max_depth': 4, 'min_child_weight': 5, 'subsample': 0.7},\n",
       "  mean: 0.62600, std: 0.01658, params: {'colsample_bytree': 0.6, 'gamma': 0.5, 'max_depth': 4, 'min_child_weight': 5, 'subsample': 0.8},\n",
       "  mean: 0.62568, std: 0.02098, params: {'colsample_bytree': 0.6, 'gamma': 0.5, 'max_depth': 4, 'min_child_weight': 5, 'subsample': 0.9},\n",
       "  mean: 0.62178, std: 0.01870, params: {'colsample_bytree': 0.6, 'gamma': 0.5, 'max_depth': 4, 'min_child_weight': 5, 'subsample': 1.0},\n",
       "  mean: 0.62928, std: 0.01521, params: {'colsample_bytree': 0.7, 'gamma': 0.3, 'max_depth': 2, 'min_child_weight': 4, 'subsample': 0.6},\n",
       "  mean: 0.63129, std: 0.01741, params: {'colsample_bytree': 0.7, 'gamma': 0.3, 'max_depth': 2, 'min_child_weight': 4, 'subsample': 0.7},\n",
       "  mean: 0.63276, std: 0.01796, params: {'colsample_bytree': 0.7, 'gamma': 0.3, 'max_depth': 2, 'min_child_weight': 4, 'subsample': 0.8},\n",
       "  mean: 0.63602, std: 0.01887, params: {'colsample_bytree': 0.7, 'gamma': 0.3, 'max_depth': 2, 'min_child_weight': 4, 'subsample': 0.9},\n",
       "  mean: 0.63726, std: 0.01698, params: {'colsample_bytree': 0.7, 'gamma': 0.3, 'max_depth': 2, 'min_child_weight': 4, 'subsample': 1.0},\n",
       "  mean: 0.62584, std: 0.01298, params: {'colsample_bytree': 0.7, 'gamma': 0.3, 'max_depth': 2, 'min_child_weight': 5, 'subsample': 0.6},\n",
       "  mean: 0.62803, std: 0.01911, params: {'colsample_bytree': 0.7, 'gamma': 0.3, 'max_depth': 2, 'min_child_weight': 5, 'subsample': 0.7},\n",
       "  mean: 0.63581, std: 0.01926, params: {'colsample_bytree': 0.7, 'gamma': 0.3, 'max_depth': 2, 'min_child_weight': 5, 'subsample': 0.8},\n",
       "  mean: 0.63256, std: 0.01789, params: {'colsample_bytree': 0.7, 'gamma': 0.3, 'max_depth': 2, 'min_child_weight': 5, 'subsample': 0.9},\n",
       "  mean: 0.63681, std: 0.01584, params: {'colsample_bytree': 0.7, 'gamma': 0.3, 'max_depth': 2, 'min_child_weight': 5, 'subsample': 1.0},\n",
       "  mean: 0.61724, std: 0.01755, params: {'colsample_bytree': 0.7, 'gamma': 0.3, 'max_depth': 3, 'min_child_weight': 4, 'subsample': 0.6},\n",
       "  mean: 0.62690, std: 0.01970, params: {'colsample_bytree': 0.7, 'gamma': 0.3, 'max_depth': 3, 'min_child_weight': 4, 'subsample': 0.7},\n",
       "  mean: 0.63427, std: 0.02165, params: {'colsample_bytree': 0.7, 'gamma': 0.3, 'max_depth': 3, 'min_child_weight': 4, 'subsample': 0.8},\n",
       "  mean: 0.63309, std: 0.01786, params: {'colsample_bytree': 0.7, 'gamma': 0.3, 'max_depth': 3, 'min_child_weight': 4, 'subsample': 0.9},\n",
       "  mean: 0.63576, std: 0.01883, params: {'colsample_bytree': 0.7, 'gamma': 0.3, 'max_depth': 3, 'min_child_weight': 4, 'subsample': 1.0},\n",
       "  mean: 0.62234, std: 0.01787, params: {'colsample_bytree': 0.7, 'gamma': 0.3, 'max_depth': 3, 'min_child_weight': 5, 'subsample': 0.6},\n",
       "  mean: 0.62657, std: 0.01738, params: {'colsample_bytree': 0.7, 'gamma': 0.3, 'max_depth': 3, 'min_child_weight': 5, 'subsample': 0.7},\n",
       "  mean: 0.63536, std: 0.01707, params: {'colsample_bytree': 0.7, 'gamma': 0.3, 'max_depth': 3, 'min_child_weight': 5, 'subsample': 0.8},\n",
       "  mean: 0.63116, std: 0.01764, params: {'colsample_bytree': 0.7, 'gamma': 0.3, 'max_depth': 3, 'min_child_weight': 5, 'subsample': 0.9},\n",
       "  mean: 0.63686, std: 0.02091, params: {'colsample_bytree': 0.7, 'gamma': 0.3, 'max_depth': 3, 'min_child_weight': 5, 'subsample': 1.0},\n",
       "  mean: 0.61717, std: 0.02305, params: {'colsample_bytree': 0.7, 'gamma': 0.3, 'max_depth': 4, 'min_child_weight': 4, 'subsample': 0.6},\n",
       "  mean: 0.62736, std: 0.01804, params: {'colsample_bytree': 0.7, 'gamma': 0.3, 'max_depth': 4, 'min_child_weight': 4, 'subsample': 0.7},\n",
       "  mean: 0.63064, std: 0.01712, params: {'colsample_bytree': 0.7, 'gamma': 0.3, 'max_depth': 4, 'min_child_weight': 4, 'subsample': 0.8},\n",
       "  mean: 0.62307, std: 0.01985, params: {'colsample_bytree': 0.7, 'gamma': 0.3, 'max_depth': 4, 'min_child_weight': 4, 'subsample': 0.9},\n",
       "  mean: 0.62612, std: 0.01676, params: {'colsample_bytree': 0.7, 'gamma': 0.3, 'max_depth': 4, 'min_child_weight': 4, 'subsample': 1.0},\n",
       "  mean: 0.61302, std: 0.02070, params: {'colsample_bytree': 0.7, 'gamma': 0.3, 'max_depth': 4, 'min_child_weight': 5, 'subsample': 0.6},\n",
       "  mean: 0.62553, std: 0.01206, params: {'colsample_bytree': 0.7, 'gamma': 0.3, 'max_depth': 4, 'min_child_weight': 5, 'subsample': 0.7},\n",
       "  mean: 0.62836, std: 0.01925, params: {'colsample_bytree': 0.7, 'gamma': 0.3, 'max_depth': 4, 'min_child_weight': 5, 'subsample': 0.8},\n",
       "  mean: 0.62680, std: 0.01929, params: {'colsample_bytree': 0.7, 'gamma': 0.3, 'max_depth': 4, 'min_child_weight': 5, 'subsample': 0.9},\n",
       "  mean: 0.62615, std: 0.01726, params: {'colsample_bytree': 0.7, 'gamma': 0.3, 'max_depth': 4, 'min_child_weight': 5, 'subsample': 1.0},\n",
       "  mean: 0.62728, std: 0.01619, params: {'colsample_bytree': 0.7, 'gamma': 0.4, 'max_depth': 2, 'min_child_weight': 4, 'subsample': 0.6},\n",
       "  mean: 0.63076, std: 0.01650, params: {'colsample_bytree': 0.7, 'gamma': 0.4, 'max_depth': 2, 'min_child_weight': 4, 'subsample': 0.7},\n",
       "  mean: 0.63284, std: 0.01779, params: {'colsample_bytree': 0.7, 'gamma': 0.4, 'max_depth': 2, 'min_child_weight': 4, 'subsample': 0.8},\n",
       "  mean: 0.63602, std: 0.01887, params: {'colsample_bytree': 0.7, 'gamma': 0.4, 'max_depth': 2, 'min_child_weight': 4, 'subsample': 0.9},\n",
       "  mean: 0.63669, std: 0.01643, params: {'colsample_bytree': 0.7, 'gamma': 0.4, 'max_depth': 2, 'min_child_weight': 4, 'subsample': 1.0},\n",
       "  mean: 0.62663, std: 0.01225, params: {'colsample_bytree': 0.7, 'gamma': 0.4, 'max_depth': 2, 'min_child_weight': 5, 'subsample': 0.6},\n",
       "  mean: 0.62957, std: 0.01839, params: {'colsample_bytree': 0.7, 'gamma': 0.4, 'max_depth': 2, 'min_child_weight': 5, 'subsample': 0.7},\n",
       "  mean: 0.63445, std: 0.01882, params: {'colsample_bytree': 0.7, 'gamma': 0.4, 'max_depth': 2, 'min_child_weight': 5, 'subsample': 0.8},\n",
       "  mean: 0.63193, std: 0.01706, params: {'colsample_bytree': 0.7, 'gamma': 0.4, 'max_depth': 2, 'min_child_weight': 5, 'subsample': 0.9},\n",
       "  mean: 0.63754, std: 0.01499, params: {'colsample_bytree': 0.7, 'gamma': 0.4, 'max_depth': 2, 'min_child_weight': 5, 'subsample': 1.0},\n",
       "  mean: 0.62081, std: 0.01893, params: {'colsample_bytree': 0.7, 'gamma': 0.4, 'max_depth': 3, 'min_child_weight': 4, 'subsample': 0.6},\n",
       "  mean: 0.62472, std: 0.01879, params: {'colsample_bytree': 0.7, 'gamma': 0.4, 'max_depth': 3, 'min_child_weight': 4, 'subsample': 0.7},\n",
       "  mean: 0.63537, std: 0.01731, params: {'colsample_bytree': 0.7, 'gamma': 0.4, 'max_depth': 3, 'min_child_weight': 4, 'subsample': 0.8},\n",
       "  mean: 0.62858, std: 0.01945, params: {'colsample_bytree': 0.7, 'gamma': 0.4, 'max_depth': 3, 'min_child_weight': 4, 'subsample': 0.9},\n",
       "  mean: 0.63125, std: 0.01470, params: {'colsample_bytree': 0.7, 'gamma': 0.4, 'max_depth': 3, 'min_child_weight': 4, 'subsample': 1.0},\n",
       "  mean: 0.62237, std: 0.02286, params: {'colsample_bytree': 0.7, 'gamma': 0.4, 'max_depth': 3, 'min_child_weight': 5, 'subsample': 0.6},\n",
       "  mean: 0.62594, std: 0.02117, params: {'colsample_bytree': 0.7, 'gamma': 0.4, 'max_depth': 3, 'min_child_weight': 5, 'subsample': 0.7},\n",
       "  mean: 0.63293, std: 0.01467, params: {'colsample_bytree': 0.7, 'gamma': 0.4, 'max_depth': 3, 'min_child_weight': 5, 'subsample': 0.8},\n",
       "  mean: 0.63251, std: 0.01783, params: {'colsample_bytree': 0.7, 'gamma': 0.4, 'max_depth': 3, 'min_child_weight': 5, 'subsample': 0.9},\n",
       "  mean: 0.63066, std: 0.02019, params: {'colsample_bytree': 0.7, 'gamma': 0.4, 'max_depth': 3, 'min_child_weight': 5, 'subsample': 1.0},\n",
       "  mean: 0.61530, std: 0.01998, params: {'colsample_bytree': 0.7, 'gamma': 0.4, 'max_depth': 4, 'min_child_weight': 4, 'subsample': 0.6},\n",
       "  mean: 0.62219, std: 0.01994, params: {'colsample_bytree': 0.7, 'gamma': 0.4, 'max_depth': 4, 'min_child_weight': 4, 'subsample': 0.7},\n",
       "  mean: 0.62796, std: 0.01548, params: {'colsample_bytree': 0.7, 'gamma': 0.4, 'max_depth': 4, 'min_child_weight': 4, 'subsample': 0.8},\n",
       "  mean: 0.62656, std: 0.01586, params: {'colsample_bytree': 0.7, 'gamma': 0.4, 'max_depth': 4, 'min_child_weight': 4, 'subsample': 0.9},\n",
       "  mean: 0.62977, std: 0.01728, params: {'colsample_bytree': 0.7, 'gamma': 0.4, 'max_depth': 4, 'min_child_weight': 4, 'subsample': 1.0},\n",
       "  mean: 0.61745, std: 0.01483, params: {'colsample_bytree': 0.7, 'gamma': 0.4, 'max_depth': 4, 'min_child_weight': 5, 'subsample': 0.6},\n",
       "  mean: 0.61841, std: 0.01696, params: {'colsample_bytree': 0.7, 'gamma': 0.4, 'max_depth': 4, 'min_child_weight': 5, 'subsample': 0.7},\n",
       "  mean: 0.62862, std: 0.01728, params: {'colsample_bytree': 0.7, 'gamma': 0.4, 'max_depth': 4, 'min_child_weight': 5, 'subsample': 0.8},\n",
       "  mean: 0.62168, std: 0.01753, params: {'colsample_bytree': 0.7, 'gamma': 0.4, 'max_depth': 4, 'min_child_weight': 5, 'subsample': 0.9},\n",
       "  mean: 0.62706, std: 0.01838, params: {'colsample_bytree': 0.7, 'gamma': 0.4, 'max_depth': 4, 'min_child_weight': 5, 'subsample': 1.0},\n",
       "  mean: 0.62800, std: 0.01603, params: {'colsample_bytree': 0.7, 'gamma': 0.5, 'max_depth': 2, 'min_child_weight': 4, 'subsample': 0.6},\n",
       "  mean: 0.63060, std: 0.01738, params: {'colsample_bytree': 0.7, 'gamma': 0.5, 'max_depth': 2, 'min_child_weight': 4, 'subsample': 0.7},\n",
       "  mean: 0.63404, std: 0.01857, params: {'colsample_bytree': 0.7, 'gamma': 0.5, 'max_depth': 2, 'min_child_weight': 4, 'subsample': 0.8},\n",
       "  mean: 0.63602, std: 0.01887, params: {'colsample_bytree': 0.7, 'gamma': 0.5, 'max_depth': 2, 'min_child_weight': 4, 'subsample': 0.9},\n",
       "  mean: 0.63717, std: 0.01602, params: {'colsample_bytree': 0.7, 'gamma': 0.5, 'max_depth': 2, 'min_child_weight': 4, 'subsample': 1.0},\n",
       "  mean: 0.62657, std: 0.01256, params: {'colsample_bytree': 0.7, 'gamma': 0.5, 'max_depth': 2, 'min_child_weight': 5, 'subsample': 0.6},\n",
       "  mean: 0.62925, std: 0.01874, params: {'colsample_bytree': 0.7, 'gamma': 0.5, 'max_depth': 2, 'min_child_weight': 5, 'subsample': 0.7},\n",
       "  mean: 0.63470, std: 0.01884, params: {'colsample_bytree': 0.7, 'gamma': 0.5, 'max_depth': 2, 'min_child_weight': 5, 'subsample': 0.8},\n",
       "  mean: 0.63153, std: 0.01687, params: {'colsample_bytree': 0.7, 'gamma': 0.5, 'max_depth': 2, 'min_child_weight': 5, 'subsample': 0.9},\n",
       "  mean: 0.63754, std: 0.01499, params: {'colsample_bytree': 0.7, 'gamma': 0.5, 'max_depth': 2, 'min_child_weight': 5, 'subsample': 1.0},\n",
       "  mean: 0.62269, std: 0.01323, params: {'colsample_bytree': 0.7, 'gamma': 0.5, 'max_depth': 3, 'min_child_weight': 4, 'subsample': 0.6},\n",
       "  mean: 0.63113, std: 0.01675, params: {'colsample_bytree': 0.7, 'gamma': 0.5, 'max_depth': 3, 'min_child_weight': 4, 'subsample': 0.7},\n",
       "  mean: 0.63148, std: 0.01676, params: {'colsample_bytree': 0.7, 'gamma': 0.5, 'max_depth': 3, 'min_child_weight': 4, 'subsample': 0.8},\n",
       "  mean: 0.63044, std: 0.01765, params: {'colsample_bytree': 0.7, 'gamma': 0.5, 'max_depth': 3, 'min_child_weight': 4, 'subsample': 0.9},\n",
       "  mean: 0.63409, std: 0.01774, params: {'colsample_bytree': 0.7, 'gamma': 0.5, 'max_depth': 3, 'min_child_weight': 4, 'subsample': 1.0},\n",
       "  mean: 0.62385, std: 0.01690, params: {'colsample_bytree': 0.7, 'gamma': 0.5, 'max_depth': 3, 'min_child_weight': 5, 'subsample': 0.6},\n",
       "  mean: 0.62698, std: 0.02028, params: {'colsample_bytree': 0.7, 'gamma': 0.5, 'max_depth': 3, 'min_child_weight': 5, 'subsample': 0.7},\n",
       "  mean: 0.63493, std: 0.02230, params: {'colsample_bytree': 0.7, 'gamma': 0.5, 'max_depth': 3, 'min_child_weight': 5, 'subsample': 0.8},\n",
       "  mean: 0.62963, std: 0.01931, params: {'colsample_bytree': 0.7, 'gamma': 0.5, 'max_depth': 3, 'min_child_weight': 5, 'subsample': 0.9},\n",
       "  mean: 0.62917, std: 0.01915, params: {'colsample_bytree': 0.7, 'gamma': 0.5, 'max_depth': 3, 'min_child_weight': 5, 'subsample': 1.0},\n",
       "  mean: 0.61723, std: 0.02443, params: {'colsample_bytree': 0.7, 'gamma': 0.5, 'max_depth': 4, 'min_child_weight': 4, 'subsample': 0.6},\n",
       "  mean: 0.62277, std: 0.01677, params: {'colsample_bytree': 0.7, 'gamma': 0.5, 'max_depth': 4, 'min_child_weight': 4, 'subsample': 0.7},\n",
       "  mean: 0.63027, std: 0.01297, params: {'colsample_bytree': 0.7, 'gamma': 0.5, 'max_depth': 4, 'min_child_weight': 4, 'subsample': 0.8},\n",
       "  mean: 0.62795, std: 0.01691, params: {'colsample_bytree': 0.7, 'gamma': 0.5, 'max_depth': 4, 'min_child_weight': 4, 'subsample': 0.9},\n",
       "  mean: 0.62486, std: 0.01721, params: {'colsample_bytree': 0.7, 'gamma': 0.5, 'max_depth': 4, 'min_child_weight': 4, 'subsample': 1.0},\n",
       "  mean: 0.61618, std: 0.02544, params: {'colsample_bytree': 0.7, 'gamma': 0.5, 'max_depth': 4, 'min_child_weight': 5, 'subsample': 0.6},\n",
       "  mean: 0.62336, std: 0.02084, params: {'colsample_bytree': 0.7, 'gamma': 0.5, 'max_depth': 4, 'min_child_weight': 5, 'subsample': 0.7},\n",
       "  mean: 0.62544, std: 0.01842, params: {'colsample_bytree': 0.7, 'gamma': 0.5, 'max_depth': 4, 'min_child_weight': 5, 'subsample': 0.8},\n",
       "  mean: 0.62437, std: 0.01930, params: {'colsample_bytree': 0.7, 'gamma': 0.5, 'max_depth': 4, 'min_child_weight': 5, 'subsample': 0.9},\n",
       "  mean: 0.62528, std: 0.01889, params: {'colsample_bytree': 0.7, 'gamma': 0.5, 'max_depth': 4, 'min_child_weight': 5, 'subsample': 1.0},\n",
       "  mean: 0.62338, std: 0.01555, params: {'colsample_bytree': 0.8, 'gamma': 0.3, 'max_depth': 2, 'min_child_weight': 4, 'subsample': 0.6},\n",
       "  mean: 0.63161, std: 0.01820, params: {'colsample_bytree': 0.8, 'gamma': 0.3, 'max_depth': 2, 'min_child_weight': 4, 'subsample': 0.7},\n",
       "  mean: 0.63444, std: 0.01936, params: {'colsample_bytree': 0.8, 'gamma': 0.3, 'max_depth': 2, 'min_child_weight': 4, 'subsample': 0.8},\n",
       "  mean: 0.63677, std: 0.01945, params: {'colsample_bytree': 0.8, 'gamma': 0.3, 'max_depth': 2, 'min_child_weight': 4, 'subsample': 0.9},\n",
       "  mean: 0.63586, std: 0.01775, params: {'colsample_bytree': 0.8, 'gamma': 0.3, 'max_depth': 2, 'min_child_weight': 4, 'subsample': 1.0},\n",
       "  mean: 0.62595, std: 0.01584, params: {'colsample_bytree': 0.8, 'gamma': 0.3, 'max_depth': 2, 'min_child_weight': 5, 'subsample': 0.6},\n",
       "  mean: 0.62834, std: 0.01954, params: {'colsample_bytree': 0.8, 'gamma': 0.3, 'max_depth': 2, 'min_child_weight': 5, 'subsample': 0.7},\n",
       "  mean: 0.63349, std: 0.01559, params: {'colsample_bytree': 0.8, 'gamma': 0.3, 'max_depth': 2, 'min_child_weight': 5, 'subsample': 0.8},\n",
       "  mean: 0.63316, std: 0.02078, params: {'colsample_bytree': 0.8, 'gamma': 0.3, 'max_depth': 2, 'min_child_weight': 5, 'subsample': 0.9},\n",
       "  mean: 0.63593, std: 0.01612, params: {'colsample_bytree': 0.8, 'gamma': 0.3, 'max_depth': 2, 'min_child_weight': 5, 'subsample': 1.0},\n",
       "  mean: 0.62525, std: 0.02085, params: {'colsample_bytree': 0.8, 'gamma': 0.3, 'max_depth': 3, 'min_child_weight': 4, 'subsample': 0.6},\n",
       "  mean: 0.62420, std: 0.01837, params: {'colsample_bytree': 0.8, 'gamma': 0.3, 'max_depth': 3, 'min_child_weight': 4, 'subsample': 0.7},\n",
       "  mean: 0.63114, std: 0.01384, params: {'colsample_bytree': 0.8, 'gamma': 0.3, 'max_depth': 3, 'min_child_weight': 4, 'subsample': 0.8},\n",
       "  mean: 0.63562, std: 0.02118, params: {'colsample_bytree': 0.8, 'gamma': 0.3, 'max_depth': 3, 'min_child_weight': 4, 'subsample': 0.9},\n",
       "  mean: 0.63000, std: 0.01957, params: {'colsample_bytree': 0.8, 'gamma': 0.3, 'max_depth': 3, 'min_child_weight': 4, 'subsample': 1.0},\n",
       "  mean: 0.62127, std: 0.01869, params: {'colsample_bytree': 0.8, 'gamma': 0.3, 'max_depth': 3, 'min_child_weight': 5, 'subsample': 0.6},\n",
       "  mean: 0.62394, std: 0.01432, params: {'colsample_bytree': 0.8, 'gamma': 0.3, 'max_depth': 3, 'min_child_weight': 5, 'subsample': 0.7},\n",
       "  mean: 0.62889, std: 0.01715, params: {'colsample_bytree': 0.8, 'gamma': 0.3, 'max_depth': 3, 'min_child_weight': 5, 'subsample': 0.8},\n",
       "  mean: 0.62945, std: 0.01806, params: {'colsample_bytree': 0.8, 'gamma': 0.3, 'max_depth': 3, 'min_child_weight': 5, 'subsample': 0.9},\n",
       "  mean: 0.62804, std: 0.01583, params: {'colsample_bytree': 0.8, 'gamma': 0.3, 'max_depth': 3, 'min_child_weight': 5, 'subsample': 1.0},\n",
       "  mean: 0.61626, std: 0.01264, params: {'colsample_bytree': 0.8, 'gamma': 0.3, 'max_depth': 4, 'min_child_weight': 4, 'subsample': 0.6},\n",
       "  mean: 0.61769, std: 0.01804, params: {'colsample_bytree': 0.8, 'gamma': 0.3, 'max_depth': 4, 'min_child_weight': 4, 'subsample': 0.7},\n",
       "  mean: 0.62628, std: 0.01752, params: {'colsample_bytree': 0.8, 'gamma': 0.3, 'max_depth': 4, 'min_child_weight': 4, 'subsample': 0.8},\n",
       "  mean: 0.62514, std: 0.01719, params: {'colsample_bytree': 0.8, 'gamma': 0.3, 'max_depth': 4, 'min_child_weight': 4, 'subsample': 0.9},\n",
       "  mean: 0.62650, std: 0.01746, params: {'colsample_bytree': 0.8, 'gamma': 0.3, 'max_depth': 4, 'min_child_weight': 4, 'subsample': 1.0},\n",
       "  mean: 0.61363, std: 0.01416, params: {'colsample_bytree': 0.8, 'gamma': 0.3, 'max_depth': 4, 'min_child_weight': 5, 'subsample': 0.6},\n",
       "  mean: 0.61601, std: 0.01375, params: {'colsample_bytree': 0.8, 'gamma': 0.3, 'max_depth': 4, 'min_child_weight': 5, 'subsample': 0.7},\n",
       "  mean: 0.62582, std: 0.01719, params: {'colsample_bytree': 0.8, 'gamma': 0.3, 'max_depth': 4, 'min_child_weight': 5, 'subsample': 0.8},\n",
       "  mean: 0.62619, std: 0.01588, params: {'colsample_bytree': 0.8, 'gamma': 0.3, 'max_depth': 4, 'min_child_weight': 5, 'subsample': 0.9},\n",
       "  mean: 0.62412, std: 0.01805, params: {'colsample_bytree': 0.8, 'gamma': 0.3, 'max_depth': 4, 'min_child_weight': 5, 'subsample': 1.0},\n",
       "  mean: 0.62238, std: 0.01708, params: {'colsample_bytree': 0.8, 'gamma': 0.4, 'max_depth': 2, 'min_child_weight': 4, 'subsample': 0.6},\n",
       "  mean: 0.63093, std: 0.01840, params: {'colsample_bytree': 0.8, 'gamma': 0.4, 'max_depth': 2, 'min_child_weight': 4, 'subsample': 0.7},\n",
       "  mean: 0.63561, std: 0.02060, params: {'colsample_bytree': 0.8, 'gamma': 0.4, 'max_depth': 2, 'min_child_weight': 4, 'subsample': 0.8},\n",
       "  mean: 0.63579, std: 0.01830, params: {'colsample_bytree': 0.8, 'gamma': 0.4, 'max_depth': 2, 'min_child_weight': 4, 'subsample': 0.9},\n",
       "  mean: 0.63550, std: 0.01863, params: {'colsample_bytree': 0.8, 'gamma': 0.4, 'max_depth': 2, 'min_child_weight': 4, 'subsample': 1.0},\n",
       "  mean: 0.62686, std: 0.01483, params: {'colsample_bytree': 0.8, 'gamma': 0.4, 'max_depth': 2, 'min_child_weight': 5, 'subsample': 0.6},\n",
       "  mean: 0.62773, std: 0.01897, params: {'colsample_bytree': 0.8, 'gamma': 0.4, 'max_depth': 2, 'min_child_weight': 5, 'subsample': 0.7},\n",
       "  mean: 0.63349, std: 0.01559, params: {'colsample_bytree': 0.8, 'gamma': 0.4, 'max_depth': 2, 'min_child_weight': 5, 'subsample': 0.8},\n",
       "  mean: 0.63316, std: 0.02078, params: {'colsample_bytree': 0.8, 'gamma': 0.4, 'max_depth': 2, 'min_child_weight': 5, 'subsample': 0.9},\n",
       "  mean: 0.63572, std: 0.01596, params: {'colsample_bytree': 0.8, 'gamma': 0.4, 'max_depth': 2, 'min_child_weight': 5, 'subsample': 1.0},\n",
       "  mean: 0.61989, std: 0.01938, params: {'colsample_bytree': 0.8, 'gamma': 0.4, 'max_depth': 3, 'min_child_weight': 4, 'subsample': 0.6},\n",
       "  mean: 0.62503, std: 0.01839, params: {'colsample_bytree': 0.8, 'gamma': 0.4, 'max_depth': 3, 'min_child_weight': 4, 'subsample': 0.7},\n",
       "  mean: 0.62990, std: 0.01250, params: {'colsample_bytree': 0.8, 'gamma': 0.4, 'max_depth': 3, 'min_child_weight': 4, 'subsample': 0.8},\n",
       "  mean: 0.63275, std: 0.01799, params: {'colsample_bytree': 0.8, 'gamma': 0.4, 'max_depth': 3, 'min_child_weight': 4, 'subsample': 0.9},\n",
       "  mean: 0.62980, std: 0.01702, params: {'colsample_bytree': 0.8, 'gamma': 0.4, 'max_depth': 3, 'min_child_weight': 4, 'subsample': 1.0},\n",
       "  mean: 0.62312, std: 0.02163, params: {'colsample_bytree': 0.8, 'gamma': 0.4, 'max_depth': 3, 'min_child_weight': 5, 'subsample': 0.6},\n",
       "  mean: 0.62740, std: 0.01531, params: {'colsample_bytree': 0.8, 'gamma': 0.4, 'max_depth': 3, 'min_child_weight': 5, 'subsample': 0.7},\n",
       "  mean: 0.63164, std: 0.01552, params: {'colsample_bytree': 0.8, 'gamma': 0.4, 'max_depth': 3, 'min_child_weight': 5, 'subsample': 0.8},\n",
       "  mean: 0.63278, std: 0.01696, params: {'colsample_bytree': 0.8, 'gamma': 0.4, 'max_depth': 3, 'min_child_weight': 5, 'subsample': 0.9},\n",
       "  mean: 0.62862, std: 0.01835, params: {'colsample_bytree': 0.8, 'gamma': 0.4, 'max_depth': 3, 'min_child_weight': 5, 'subsample': 1.0},\n",
       "  mean: 0.61247, std: 0.01738, params: {'colsample_bytree': 0.8, 'gamma': 0.4, 'max_depth': 4, 'min_child_weight': 4, 'subsample': 0.6},\n",
       "  mean: 0.61740, std: 0.01266, params: {'colsample_bytree': 0.8, 'gamma': 0.4, 'max_depth': 4, 'min_child_weight': 4, 'subsample': 0.7},\n",
       "  mean: 0.62816, std: 0.01645, params: {'colsample_bytree': 0.8, 'gamma': 0.4, 'max_depth': 4, 'min_child_weight': 4, 'subsample': 0.8},\n",
       "  mean: 0.62711, std: 0.01533, params: {'colsample_bytree': 0.8, 'gamma': 0.4, 'max_depth': 4, 'min_child_weight': 4, 'subsample': 0.9},\n",
       "  mean: 0.62689, std: 0.01949, params: {'colsample_bytree': 0.8, 'gamma': 0.4, 'max_depth': 4, 'min_child_weight': 4, 'subsample': 1.0},\n",
       "  mean: 0.61978, std: 0.01143, params: {'colsample_bytree': 0.8, 'gamma': 0.4, 'max_depth': 4, 'min_child_weight': 5, 'subsample': 0.6},\n",
       "  mean: 0.61776, std: 0.01612, params: {'colsample_bytree': 0.8, 'gamma': 0.4, 'max_depth': 4, 'min_child_weight': 5, 'subsample': 0.7},\n",
       "  mean: 0.62355, std: 0.01885, params: {'colsample_bytree': 0.8, 'gamma': 0.4, 'max_depth': 4, 'min_child_weight': 5, 'subsample': 0.8},\n",
       "  mean: 0.62475, std: 0.01566, params: {'colsample_bytree': 0.8, 'gamma': 0.4, 'max_depth': 4, 'min_child_weight': 5, 'subsample': 0.9},\n",
       "  mean: 0.62212, std: 0.01706, params: {'colsample_bytree': 0.8, 'gamma': 0.4, 'max_depth': 4, 'min_child_weight': 5, 'subsample': 1.0},\n",
       "  mean: 0.62324, std: 0.01611, params: {'colsample_bytree': 0.8, 'gamma': 0.5, 'max_depth': 2, 'min_child_weight': 4, 'subsample': 0.6},\n",
       "  mean: 0.63093, std: 0.01840, params: {'colsample_bytree': 0.8, 'gamma': 0.5, 'max_depth': 2, 'min_child_weight': 4, 'subsample': 0.7},\n",
       "  mean: 0.63675, std: 0.02144, params: {'colsample_bytree': 0.8, 'gamma': 0.5, 'max_depth': 2, 'min_child_weight': 4, 'subsample': 0.8},\n",
       "  mean: 0.63579, std: 0.01830, params: {'colsample_bytree': 0.8, 'gamma': 0.5, 'max_depth': 2, 'min_child_weight': 4, 'subsample': 0.9},\n",
       "  mean: 0.63575, std: 0.01899, params: {'colsample_bytree': 0.8, 'gamma': 0.5, 'max_depth': 2, 'min_child_weight': 4, 'subsample': 1.0},\n",
       "  mean: 0.62686, std: 0.01483, params: {'colsample_bytree': 0.8, 'gamma': 0.5, 'max_depth': 2, 'min_child_weight': 5, 'subsample': 0.6},\n",
       "  mean: 0.62773, std: 0.01897, params: {'colsample_bytree': 0.8, 'gamma': 0.5, 'max_depth': 2, 'min_child_weight': 5, 'subsample': 0.7},\n",
       "  mean: 0.63200, std: 0.01729, params: {'colsample_bytree': 0.8, 'gamma': 0.5, 'max_depth': 2, 'min_child_weight': 5, 'subsample': 0.8},\n",
       "  mean: 0.63316, std: 0.02078, params: {'colsample_bytree': 0.8, 'gamma': 0.5, 'max_depth': 2, 'min_child_weight': 5, 'subsample': 0.9},\n",
       "  mean: 0.63582, std: 0.01612, params: {'colsample_bytree': 0.8, 'gamma': 0.5, 'max_depth': 2, 'min_child_weight': 5, 'subsample': 1.0},\n",
       "  mean: 0.61988, std: 0.02260, params: {'colsample_bytree': 0.8, 'gamma': 0.5, 'max_depth': 3, 'min_child_weight': 4, 'subsample': 0.6},\n",
       "  mean: 0.62560, std: 0.01956, params: {'colsample_bytree': 0.8, 'gamma': 0.5, 'max_depth': 3, 'min_child_weight': 4, 'subsample': 0.7},\n",
       "  mean: 0.63259, std: 0.01485, params: {'colsample_bytree': 0.8, 'gamma': 0.5, 'max_depth': 3, 'min_child_weight': 4, 'subsample': 0.8},\n",
       "  mean: 0.63134, std: 0.01849, params: {'colsample_bytree': 0.8, 'gamma': 0.5, 'max_depth': 3, 'min_child_weight': 4, 'subsample': 0.9},\n",
       "  mean: 0.63245, std: 0.01787, params: {'colsample_bytree': 0.8, 'gamma': 0.5, 'max_depth': 3, 'min_child_weight': 4, 'subsample': 1.0},\n",
       "  mean: 0.62157, std: 0.02402, params: {'colsample_bytree': 0.8, 'gamma': 0.5, 'max_depth': 3, 'min_child_weight': 5, 'subsample': 0.6},\n",
       "  mean: 0.62620, std: 0.01714, params: {'colsample_bytree': 0.8, 'gamma': 0.5, 'max_depth': 3, 'min_child_weight': 5, 'subsample': 0.7},\n",
       "  mean: 0.63132, std: 0.01810, params: {'colsample_bytree': 0.8, 'gamma': 0.5, 'max_depth': 3, 'min_child_weight': 5, 'subsample': 0.8},\n",
       "  mean: 0.63327, std: 0.01978, params: {'colsample_bytree': 0.8, 'gamma': 0.5, 'max_depth': 3, 'min_child_weight': 5, 'subsample': 0.9},\n",
       "  mean: 0.63017, std: 0.01875, params: {'colsample_bytree': 0.8, 'gamma': 0.5, 'max_depth': 3, 'min_child_weight': 5, 'subsample': 1.0},\n",
       "  mean: 0.61928, std: 0.02165, params: {'colsample_bytree': 0.8, 'gamma': 0.5, 'max_depth': 4, 'min_child_weight': 4, 'subsample': 0.6},\n",
       "  mean: 0.62459, std: 0.01927, params: {'colsample_bytree': 0.8, 'gamma': 0.5, 'max_depth': 4, 'min_child_weight': 4, 'subsample': 0.7},\n",
       "  mean: 0.62480, std: 0.01508, params: {'colsample_bytree': 0.8, 'gamma': 0.5, 'max_depth': 4, 'min_child_weight': 4, 'subsample': 0.8},\n",
       "  mean: 0.63011, std: 0.01988, params: {'colsample_bytree': 0.8, 'gamma': 0.5, 'max_depth': 4, 'min_child_weight': 4, 'subsample': 0.9},\n",
       "  mean: 0.63048, std: 0.02011, params: {'colsample_bytree': 0.8, 'gamma': 0.5, 'max_depth': 4, 'min_child_weight': 4, 'subsample': 1.0},\n",
       "  mean: 0.62018, std: 0.01816, params: {'colsample_bytree': 0.8, 'gamma': 0.5, 'max_depth': 4, 'min_child_weight': 5, 'subsample': 0.6},\n",
       "  mean: 0.61849, std: 0.01575, params: {'colsample_bytree': 0.8, 'gamma': 0.5, 'max_depth': 4, 'min_child_weight': 5, 'subsample': 0.7},\n",
       "  mean: 0.62839, std: 0.01964, params: {'colsample_bytree': 0.8, 'gamma': 0.5, 'max_depth': 4, 'min_child_weight': 5, 'subsample': 0.8},\n",
       "  mean: 0.62494, std: 0.01545, params: {'colsample_bytree': 0.8, 'gamma': 0.5, 'max_depth': 4, 'min_child_weight': 5, 'subsample': 0.9},\n",
       "  mean: 0.62384, std: 0.01667, params: {'colsample_bytree': 0.8, 'gamma': 0.5, 'max_depth': 4, 'min_child_weight': 5, 'subsample': 1.0},\n",
       "  mean: 0.62606, std: 0.01351, params: {'colsample_bytree': 0.9, 'gamma': 0.3, 'max_depth': 2, 'min_child_weight': 4, 'subsample': 0.6},\n",
       "  mean: 0.63182, std: 0.02079, params: {'colsample_bytree': 0.9, 'gamma': 0.3, 'max_depth': 2, 'min_child_weight': 4, 'subsample': 0.7},\n",
       "  mean: 0.63415, std: 0.01725, params: {'colsample_bytree': 0.9, 'gamma': 0.3, 'max_depth': 2, 'min_child_weight': 4, 'subsample': 0.8},\n",
       "  mean: 0.63350, std: 0.02029, params: {'colsample_bytree': 0.9, 'gamma': 0.3, 'max_depth': 2, 'min_child_weight': 4, 'subsample': 0.9},\n",
       "  mean: 0.63608, std: 0.01731, params: {'colsample_bytree': 0.9, 'gamma': 0.3, 'max_depth': 2, 'min_child_weight': 4, 'subsample': 1.0},\n",
       "  mean: 0.62403, std: 0.01322, params: {'colsample_bytree': 0.9, 'gamma': 0.3, 'max_depth': 2, 'min_child_weight': 5, 'subsample': 0.6},\n",
       "  mean: 0.63139, std: 0.01908, params: {'colsample_bytree': 0.9, 'gamma': 0.3, 'max_depth': 2, 'min_child_weight': 5, 'subsample': 0.7},\n",
       "  mean: 0.63262, std: 0.01833, params: {'colsample_bytree': 0.9, 'gamma': 0.3, 'max_depth': 2, 'min_child_weight': 5, 'subsample': 0.8},\n",
       "  mean: 0.63366, std: 0.02009, params: {'colsample_bytree': 0.9, 'gamma': 0.3, 'max_depth': 2, 'min_child_weight': 5, 'subsample': 0.9},\n",
       "  mean: 0.63482, std: 0.01800, params: {'colsample_bytree': 0.9, 'gamma': 0.3, 'max_depth': 2, 'min_child_weight': 5, 'subsample': 1.0},\n",
       "  mean: 0.62052, std: 0.01432, params: {'colsample_bytree': 0.9, 'gamma': 0.3, 'max_depth': 3, 'min_child_weight': 4, 'subsample': 0.6},\n",
       "  mean: 0.62356, std: 0.01685, params: {'colsample_bytree': 0.9, 'gamma': 0.3, 'max_depth': 3, 'min_child_weight': 4, 'subsample': 0.7},\n",
       "  mean: 0.63349, std: 0.01341, params: {'colsample_bytree': 0.9, 'gamma': 0.3, 'max_depth': 3, 'min_child_weight': 4, 'subsample': 0.8},\n",
       "  mean: 0.63126, std: 0.01924, params: {'colsample_bytree': 0.9, 'gamma': 0.3, 'max_depth': 3, 'min_child_weight': 4, 'subsample': 0.9},\n",
       "  mean: 0.62993, std: 0.02117, params: {'colsample_bytree': 0.9, 'gamma': 0.3, 'max_depth': 3, 'min_child_weight': 4, 'subsample': 1.0},\n",
       "  mean: 0.62119, std: 0.01956, params: {'colsample_bytree': 0.9, 'gamma': 0.3, 'max_depth': 3, 'min_child_weight': 5, 'subsample': 0.6},\n",
       "  mean: 0.62411, std: 0.01646, params: {'colsample_bytree': 0.9, 'gamma': 0.3, 'max_depth': 3, 'min_child_weight': 5, 'subsample': 0.7},\n",
       "  mean: 0.63140, std: 0.01614, params: {'colsample_bytree': 0.9, 'gamma': 0.3, 'max_depth': 3, 'min_child_weight': 5, 'subsample': 0.8},\n",
       "  mean: 0.62739, std: 0.02028, params: {'colsample_bytree': 0.9, 'gamma': 0.3, 'max_depth': 3, 'min_child_weight': 5, 'subsample': 0.9},\n",
       "  mean: 0.62951, std: 0.01336, params: {'colsample_bytree': 0.9, 'gamma': 0.3, 'max_depth': 3, 'min_child_weight': 5, 'subsample': 1.0},\n",
       "  mean: 0.61456, std: 0.01513, params: {'colsample_bytree': 0.9, 'gamma': 0.3, 'max_depth': 4, 'min_child_weight': 4, 'subsample': 0.6},\n",
       "  mean: 0.61433, std: 0.01649, params: {'colsample_bytree': 0.9, 'gamma': 0.3, 'max_depth': 4, 'min_child_weight': 4, 'subsample': 0.7},\n",
       "  mean: 0.62866, std: 0.01338, params: {'colsample_bytree': 0.9, 'gamma': 0.3, 'max_depth': 4, 'min_child_weight': 4, 'subsample': 0.8},\n",
       "  mean: 0.62696, std: 0.01641, params: {'colsample_bytree': 0.9, 'gamma': 0.3, 'max_depth': 4, 'min_child_weight': 4, 'subsample': 0.9},\n",
       "  mean: 0.62570, std: 0.01599, params: {'colsample_bytree': 0.9, 'gamma': 0.3, 'max_depth': 4, 'min_child_weight': 4, 'subsample': 1.0},\n",
       "  mean: 0.61727, std: 0.01335, params: {'colsample_bytree': 0.9, 'gamma': 0.3, 'max_depth': 4, 'min_child_weight': 5, 'subsample': 0.6},\n",
       "  mean: 0.62042, std: 0.00964, params: {'colsample_bytree': 0.9, 'gamma': 0.3, 'max_depth': 4, 'min_child_weight': 5, 'subsample': 0.7},\n",
       "  mean: 0.62895, std: 0.01978, params: {'colsample_bytree': 0.9, 'gamma': 0.3, 'max_depth': 4, 'min_child_weight': 5, 'subsample': 0.8},\n",
       "  mean: 0.62488, std: 0.01736, params: {'colsample_bytree': 0.9, 'gamma': 0.3, 'max_depth': 4, 'min_child_weight': 5, 'subsample': 0.9},\n",
       "  mean: 0.62965, std: 0.01509, params: {'colsample_bytree': 0.9, 'gamma': 0.3, 'max_depth': 4, 'min_child_weight': 5, 'subsample': 1.0},\n",
       "  mean: 0.62577, std: 0.01457, params: {'colsample_bytree': 0.9, 'gamma': 0.4, 'max_depth': 2, 'min_child_weight': 4, 'subsample': 0.6},\n",
       "  mean: 0.63182, std: 0.02079, params: {'colsample_bytree': 0.9, 'gamma': 0.4, 'max_depth': 2, 'min_child_weight': 4, 'subsample': 0.7},\n",
       "  mean: 0.63416, std: 0.01713, params: {'colsample_bytree': 0.9, 'gamma': 0.4, 'max_depth': 2, 'min_child_weight': 4, 'subsample': 0.8},\n",
       "  mean: 0.63331, std: 0.02049, params: {'colsample_bytree': 0.9, 'gamma': 0.4, 'max_depth': 2, 'min_child_weight': 4, 'subsample': 0.9},\n",
       "  mean: 0.63441, std: 0.01598, params: {'colsample_bytree': 0.9, 'gamma': 0.4, 'max_depth': 2, 'min_child_weight': 4, 'subsample': 1.0},\n",
       "  mean: 0.62556, std: 0.01226, params: {'colsample_bytree': 0.9, 'gamma': 0.4, 'max_depth': 2, 'min_child_weight': 5, 'subsample': 0.6},\n",
       "  mean: 0.63171, std: 0.01913, params: {'colsample_bytree': 0.9, 'gamma': 0.4, 'max_depth': 2, 'min_child_weight': 5, 'subsample': 0.7},\n",
       "  mean: 0.63261, std: 0.01831, params: {'colsample_bytree': 0.9, 'gamma': 0.4, 'max_depth': 2, 'min_child_weight': 5, 'subsample': 0.8},\n",
       "  mean: 0.63361, std: 0.02007, params: {'colsample_bytree': 0.9, 'gamma': 0.4, 'max_depth': 2, 'min_child_weight': 5, 'subsample': 0.9},\n",
       "  mean: 0.63482, std: 0.01800, params: {'colsample_bytree': 0.9, 'gamma': 0.4, 'max_depth': 2, 'min_child_weight': 5, 'subsample': 1.0},\n",
       "  mean: 0.61822, std: 0.01415, params: {'colsample_bytree': 0.9, 'gamma': 0.4, 'max_depth': 3, 'min_child_weight': 4, 'subsample': 0.6},\n",
       "  mean: 0.62785, std: 0.01916, params: {'colsample_bytree': 0.9, 'gamma': 0.4, 'max_depth': 3, 'min_child_weight': 4, 'subsample': 0.7},\n",
       "  mean: 0.62913, std: 0.01458, params: {'colsample_bytree': 0.9, 'gamma': 0.4, 'max_depth': 3, 'min_child_weight': 4, 'subsample': 0.8},\n",
       "  mean: 0.63118, std: 0.02203, params: {'colsample_bytree': 0.9, 'gamma': 0.4, 'max_depth': 3, 'min_child_weight': 4, 'subsample': 0.9},\n",
       "  mean: 0.62896, std: 0.01334, params: {'colsample_bytree': 0.9, 'gamma': 0.4, 'max_depth': 3, 'min_child_weight': 4, 'subsample': 1.0},\n",
       "  mean: 0.62339, std: 0.01938, params: {'colsample_bytree': 0.9, 'gamma': 0.4, 'max_depth': 3, 'min_child_weight': 5, 'subsample': 0.6},\n",
       "  mean: 0.62230, std: 0.01276, params: {'colsample_bytree': 0.9, 'gamma': 0.4, 'max_depth': 3, 'min_child_weight': 5, 'subsample': 0.7},\n",
       "  mean: 0.63278, std: 0.01688, params: {'colsample_bytree': 0.9, 'gamma': 0.4, 'max_depth': 3, 'min_child_weight': 5, 'subsample': 0.8},\n",
       "  mean: 0.62988, std: 0.02160, params: {'colsample_bytree': 0.9, 'gamma': 0.4, 'max_depth': 3, 'min_child_weight': 5, 'subsample': 0.9},\n",
       "  mean: 0.62877, std: 0.01618, params: {'colsample_bytree': 0.9, 'gamma': 0.4, 'max_depth': 3, 'min_child_weight': 5, 'subsample': 1.0},\n",
       "  mean: 0.61697, std: 0.02061, params: {'colsample_bytree': 0.9, 'gamma': 0.4, 'max_depth': 4, 'min_child_weight': 4, 'subsample': 0.6},\n",
       "  mean: 0.61618, std: 0.02215, params: {'colsample_bytree': 0.9, 'gamma': 0.4, 'max_depth': 4, 'min_child_weight': 4, 'subsample': 0.7},\n",
       "  mean: 0.62525, std: 0.01387, params: {'colsample_bytree': 0.9, 'gamma': 0.4, 'max_depth': 4, 'min_child_weight': 4, 'subsample': 0.8},\n",
       "  mean: 0.62605, std: 0.01826, params: {'colsample_bytree': 0.9, 'gamma': 0.4, 'max_depth': 4, 'min_child_weight': 4, 'subsample': 0.9},\n",
       "  mean: 0.62750, std: 0.01108, params: {'colsample_bytree': 0.9, 'gamma': 0.4, 'max_depth': 4, 'min_child_weight': 4, 'subsample': 1.0},\n",
       "  mean: 0.61669, std: 0.01564, params: {'colsample_bytree': 0.9, 'gamma': 0.4, 'max_depth': 4, 'min_child_weight': 5, 'subsample': 0.6},\n",
       "  mean: 0.62248, std: 0.01318, params: {'colsample_bytree': 0.9, 'gamma': 0.4, 'max_depth': 4, 'min_child_weight': 5, 'subsample': 0.7},\n",
       "  mean: 0.63092, std: 0.01647, params: {'colsample_bytree': 0.9, 'gamma': 0.4, 'max_depth': 4, 'min_child_weight': 5, 'subsample': 0.8},\n",
       "  mean: 0.62511, std: 0.02132, params: {'colsample_bytree': 0.9, 'gamma': 0.4, 'max_depth': 4, 'min_child_weight': 5, 'subsample': 0.9},\n",
       "  mean: 0.62672, std: 0.02110, params: {'colsample_bytree': 0.9, 'gamma': 0.4, 'max_depth': 4, 'min_child_weight': 5, 'subsample': 1.0},\n",
       "  mean: 0.62797, std: 0.01403, params: {'colsample_bytree': 0.9, 'gamma': 0.5, 'max_depth': 2, 'min_child_weight': 4, 'subsample': 0.6},\n",
       "  mean: 0.63159, std: 0.02046, params: {'colsample_bytree': 0.9, 'gamma': 0.5, 'max_depth': 2, 'min_child_weight': 4, 'subsample': 0.7},\n",
       "  mean: 0.63520, std: 0.01702, params: {'colsample_bytree': 0.9, 'gamma': 0.5, 'max_depth': 2, 'min_child_weight': 4, 'subsample': 0.8},\n",
       "  mean: 0.63331, std: 0.02049, params: {'colsample_bytree': 0.9, 'gamma': 0.5, 'max_depth': 2, 'min_child_weight': 4, 'subsample': 0.9},\n",
       "  mean: 0.63589, std: 0.01811, params: {'colsample_bytree': 0.9, 'gamma': 0.5, 'max_depth': 2, 'min_child_weight': 4, 'subsample': 1.0},\n",
       "  mean: 0.62595, std: 0.01291, params: {'colsample_bytree': 0.9, 'gamma': 0.5, 'max_depth': 2, 'min_child_weight': 5, 'subsample': 0.6},\n",
       "  mean: 0.63255, std: 0.02027, params: {'colsample_bytree': 0.9, 'gamma': 0.5, 'max_depth': 2, 'min_child_weight': 5, 'subsample': 0.7},\n",
       "  mean: 0.63311, std: 0.01771, params: {'colsample_bytree': 0.9, 'gamma': 0.5, 'max_depth': 2, 'min_child_weight': 5, 'subsample': 0.8},\n",
       "  mean: 0.63424, std: 0.02020, params: {'colsample_bytree': 0.9, 'gamma': 0.5, 'max_depth': 2, 'min_child_weight': 5, 'subsample': 0.9},\n",
       "  mean: 0.63482, std: 0.01800, params: {'colsample_bytree': 0.9, 'gamma': 0.5, 'max_depth': 2, 'min_child_weight': 5, 'subsample': 1.0},\n",
       "  mean: 0.62179, std: 0.01822, params: {'colsample_bytree': 0.9, 'gamma': 0.5, 'max_depth': 3, 'min_child_weight': 4, 'subsample': 0.6},\n",
       "  mean: 0.62513, std: 0.01788, params: {'colsample_bytree': 0.9, 'gamma': 0.5, 'max_depth': 3, 'min_child_weight': 4, 'subsample': 0.7},\n",
       "  mean: 0.63654, std: 0.02047, params: {'colsample_bytree': 0.9, 'gamma': 0.5, 'max_depth': 3, 'min_child_weight': 4, 'subsample': 0.8},\n",
       "  mean: 0.62941, std: 0.01911, params: {'colsample_bytree': 0.9, 'gamma': 0.5, 'max_depth': 3, 'min_child_weight': 4, 'subsample': 0.9},\n",
       "  mean: 0.63151, std: 0.01849, params: {'colsample_bytree': 0.9, 'gamma': 0.5, 'max_depth': 3, 'min_child_weight': 4, 'subsample': 1.0},\n",
       "  mean: 0.62190, std: 0.02164, params: {'colsample_bytree': 0.9, 'gamma': 0.5, 'max_depth': 3, 'min_child_weight': 5, 'subsample': 0.6},\n",
       "  mean: 0.62373, std: 0.01818, params: {'colsample_bytree': 0.9, 'gamma': 0.5, 'max_depth': 3, 'min_child_weight': 5, 'subsample': 0.7},\n",
       "  mean: 0.63746, std: 0.01697, params: {'colsample_bytree': 0.9, 'gamma': 0.5, 'max_depth': 3, 'min_child_weight': 5, 'subsample': 0.8},\n",
       "  mean: 0.63320, std: 0.02131, params: {'colsample_bytree': 0.9, 'gamma': 0.5, 'max_depth': 3, 'min_child_weight': 5, 'subsample': 0.9},\n",
       "  mean: 0.62605, std: 0.01383, params: {'colsample_bytree': 0.9, 'gamma': 0.5, 'max_depth': 3, 'min_child_weight': 5, 'subsample': 1.0},\n",
       "  mean: 0.61853, std: 0.01735, params: {'colsample_bytree': 0.9, 'gamma': 0.5, 'max_depth': 4, 'min_child_weight': 4, 'subsample': 0.6},\n",
       "  mean: 0.61772, std: 0.01233, params: {'colsample_bytree': 0.9, 'gamma': 0.5, 'max_depth': 4, 'min_child_weight': 4, 'subsample': 0.7},\n",
       "  mean: 0.62252, std: 0.02011, params: {'colsample_bytree': 0.9, 'gamma': 0.5, 'max_depth': 4, 'min_child_weight': 4, 'subsample': 0.8},\n",
       "  mean: 0.62963, std: 0.01700, params: {'colsample_bytree': 0.9, 'gamma': 0.5, 'max_depth': 4, 'min_child_weight': 4, 'subsample': 0.9},\n",
       "  mean: 0.62834, std: 0.02150, params: {'colsample_bytree': 0.9, 'gamma': 0.5, 'max_depth': 4, 'min_child_weight': 4, 'subsample': 1.0},\n",
       "  mean: 0.61913, std: 0.01410, params: {'colsample_bytree': 0.9, 'gamma': 0.5, 'max_depth': 4, 'min_child_weight': 5, 'subsample': 0.6},\n",
       "  mean: 0.61819, std: 0.01285, params: {'colsample_bytree': 0.9, 'gamma': 0.5, 'max_depth': 4, 'min_child_weight': 5, 'subsample': 0.7},\n",
       "  mean: 0.62561, std: 0.01664, params: {'colsample_bytree': 0.9, 'gamma': 0.5, 'max_depth': 4, 'min_child_weight': 5, 'subsample': 0.8},\n",
       "  mean: 0.62507, std: 0.01346, params: {'colsample_bytree': 0.9, 'gamma': 0.5, 'max_depth': 4, 'min_child_weight': 5, 'subsample': 0.9},\n",
       "  mean: 0.63062, std: 0.02067, params: {'colsample_bytree': 0.9, 'gamma': 0.5, 'max_depth': 4, 'min_child_weight': 5, 'subsample': 1.0},\n",
       "  mean: 0.62283, std: 0.01667, params: {'colsample_bytree': 1.0, 'gamma': 0.3, 'max_depth': 2, 'min_child_weight': 4, 'subsample': 0.6},\n",
       "  mean: 0.62775, std: 0.01601, params: {'colsample_bytree': 1.0, 'gamma': 0.3, 'max_depth': 2, 'min_child_weight': 4, 'subsample': 0.7},\n",
       "  mean: 0.63186, std: 0.01747, params: {'colsample_bytree': 1.0, 'gamma': 0.3, 'max_depth': 2, 'min_child_weight': 4, 'subsample': 0.8},\n",
       "  mean: 0.63316, std: 0.01945, params: {'colsample_bytree': 1.0, 'gamma': 0.3, 'max_depth': 2, 'min_child_weight': 4, 'subsample': 0.9},\n",
       "  mean: 0.63501, std: 0.01599, params: {'colsample_bytree': 1.0, 'gamma': 0.3, 'max_depth': 2, 'min_child_weight': 4, 'subsample': 1.0},\n",
       "  mean: 0.62346, std: 0.01294, params: {'colsample_bytree': 1.0, 'gamma': 0.3, 'max_depth': 2, 'min_child_weight': 5, 'subsample': 0.6},\n",
       "  mean: 0.62858, std: 0.02041, params: {'colsample_bytree': 1.0, 'gamma': 0.3, 'max_depth': 2, 'min_child_weight': 5, 'subsample': 0.7},\n",
       "  mean: 0.63157, std: 0.01781, params: {'colsample_bytree': 1.0, 'gamma': 0.3, 'max_depth': 2, 'min_child_weight': 5, 'subsample': 0.8},\n",
       "  mean: 0.63441, std: 0.01951, params: {'colsample_bytree': 1.0, 'gamma': 0.3, 'max_depth': 2, 'min_child_weight': 5, 'subsample': 0.9},\n",
       "  mean: 0.63262, std: 0.01685, params: {'colsample_bytree': 1.0, 'gamma': 0.3, 'max_depth': 2, 'min_child_weight': 5, 'subsample': 1.0},\n",
       "  mean: 0.61658, std: 0.01864, params: {'colsample_bytree': 1.0, 'gamma': 0.3, 'max_depth': 3, 'min_child_weight': 4, 'subsample': 0.6},\n",
       "  mean: 0.62605, std: 0.02165, params: {'colsample_bytree': 1.0, 'gamma': 0.3, 'max_depth': 3, 'min_child_weight': 4, 'subsample': 0.7},\n",
       "  mean: 0.63034, std: 0.01914, params: {'colsample_bytree': 1.0, 'gamma': 0.3, 'max_depth': 3, 'min_child_weight': 4, 'subsample': 0.8},\n",
       "  mean: 0.63272, std: 0.01912, params: {'colsample_bytree': 1.0, 'gamma': 0.3, 'max_depth': 3, 'min_child_weight': 4, 'subsample': 0.9},\n",
       "  mean: 0.63032, std: 0.01142, params: {'colsample_bytree': 1.0, 'gamma': 0.3, 'max_depth': 3, 'min_child_weight': 4, 'subsample': 1.0},\n",
       "  mean: 0.61706, std: 0.02242, params: {'colsample_bytree': 1.0, 'gamma': 0.3, 'max_depth': 3, 'min_child_weight': 5, 'subsample': 0.6},\n",
       "  mean: 0.62708, std: 0.01882, params: {'colsample_bytree': 1.0, 'gamma': 0.3, 'max_depth': 3, 'min_child_weight': 5, 'subsample': 0.7},\n",
       "  mean: 0.62551, std: 0.01461, params: {'colsample_bytree': 1.0, 'gamma': 0.3, 'max_depth': 3, 'min_child_weight': 5, 'subsample': 0.8},\n",
       "  mean: 0.63137, std: 0.02325, params: {'colsample_bytree': 1.0, 'gamma': 0.3, 'max_depth': 3, 'min_child_weight': 5, 'subsample': 0.9},\n",
       "  mean: 0.63156, std: 0.01788, params: {'colsample_bytree': 1.0, 'gamma': 0.3, 'max_depth': 3, 'min_child_weight': 5, 'subsample': 1.0},\n",
       "  mean: 0.62231, std: 0.02133, params: {'colsample_bytree': 1.0, 'gamma': 0.3, 'max_depth': 4, 'min_child_weight': 4, 'subsample': 0.6},\n",
       "  mean: 0.62039, std: 0.01702, params: {'colsample_bytree': 1.0, 'gamma': 0.3, 'max_depth': 4, 'min_child_weight': 4, 'subsample': 0.7},\n",
       "  mean: 0.62216, std: 0.01893, params: {'colsample_bytree': 1.0, 'gamma': 0.3, 'max_depth': 4, 'min_child_weight': 4, 'subsample': 0.8},\n",
       "  mean: 0.62925, std: 0.02144, params: {'colsample_bytree': 1.0, 'gamma': 0.3, 'max_depth': 4, 'min_child_weight': 4, 'subsample': 0.9},\n",
       "  mean: 0.62854, std: 0.01673, params: {'colsample_bytree': 1.0, 'gamma': 0.3, 'max_depth': 4, 'min_child_weight': 4, 'subsample': 1.0},\n",
       "  mean: 0.61972, std: 0.02264, params: {'colsample_bytree': 1.0, 'gamma': 0.3, 'max_depth': 4, 'min_child_weight': 5, 'subsample': 0.6},\n",
       "  mean: 0.61935, std: 0.01827, params: {'colsample_bytree': 1.0, 'gamma': 0.3, 'max_depth': 4, 'min_child_weight': 5, 'subsample': 0.7},\n",
       "  mean: 0.62022, std: 0.01878, params: {'colsample_bytree': 1.0, 'gamma': 0.3, 'max_depth': 4, 'min_child_weight': 5, 'subsample': 0.8},\n",
       "  mean: 0.62609, std: 0.01637, params: {'colsample_bytree': 1.0, 'gamma': 0.3, 'max_depth': 4, 'min_child_weight': 5, 'subsample': 0.9},\n",
       "  mean: 0.62731, std: 0.01681, params: {'colsample_bytree': 1.0, 'gamma': 0.3, 'max_depth': 4, 'min_child_weight': 5, 'subsample': 1.0},\n",
       "  mean: 0.62284, std: 0.01666, params: {'colsample_bytree': 1.0, 'gamma': 0.4, 'max_depth': 2, 'min_child_weight': 4, 'subsample': 0.6},\n",
       "  mean: 0.62919, std: 0.01823, params: {'colsample_bytree': 1.0, 'gamma': 0.4, 'max_depth': 2, 'min_child_weight': 4, 'subsample': 0.7},\n",
       "  mean: 0.63174, std: 0.01756, params: {'colsample_bytree': 1.0, 'gamma': 0.4, 'max_depth': 2, 'min_child_weight': 4, 'subsample': 0.8},\n",
       "  mean: 0.63334, std: 0.01924, params: {'colsample_bytree': 1.0, 'gamma': 0.4, 'max_depth': 2, 'min_child_weight': 4, 'subsample': 0.9},\n",
       "  mean: 0.63591, std: 0.01605, params: {'colsample_bytree': 1.0, 'gamma': 0.4, 'max_depth': 2, 'min_child_weight': 4, 'subsample': 1.0},\n",
       "  mean: 0.62313, std: 0.01323, params: {'colsample_bytree': 1.0, 'gamma': 0.4, 'max_depth': 2, 'min_child_weight': 5, 'subsample': 0.6},\n",
       "  mean: 0.62827, std: 0.01962, params: {'colsample_bytree': 1.0, 'gamma': 0.4, 'max_depth': 2, 'min_child_weight': 5, 'subsample': 0.7},\n",
       "  mean: 0.63157, std: 0.01781, params: {'colsample_bytree': 1.0, 'gamma': 0.4, 'max_depth': 2, 'min_child_weight': 5, 'subsample': 0.8},\n",
       "  mean: 0.63503, std: 0.01980, params: {'colsample_bytree': 1.0, 'gamma': 0.4, 'max_depth': 2, 'min_child_weight': 5, 'subsample': 0.9},\n",
       "  mean: 0.63262, std: 0.01685, params: {'colsample_bytree': 1.0, 'gamma': 0.4, 'max_depth': 2, 'min_child_weight': 5, 'subsample': 1.0},\n",
       "  mean: 0.61686, std: 0.02108, params: {'colsample_bytree': 1.0, 'gamma': 0.4, 'max_depth': 3, 'min_child_weight': 4, 'subsample': 0.6},\n",
       "  mean: 0.62639, std: 0.02154, params: {'colsample_bytree': 1.0, 'gamma': 0.4, 'max_depth': 3, 'min_child_weight': 4, 'subsample': 0.7},\n",
       "  mean: 0.62758, std: 0.01753, params: {'colsample_bytree': 1.0, 'gamma': 0.4, 'max_depth': 3, 'min_child_weight': 4, 'subsample': 0.8},\n",
       "  mean: 0.63305, std: 0.01674, params: {'colsample_bytree': 1.0, 'gamma': 0.4, 'max_depth': 3, 'min_child_weight': 4, 'subsample': 0.9},\n",
       "  mean: 0.62773, std: 0.01274, params: {'colsample_bytree': 1.0, 'gamma': 0.4, 'max_depth': 3, 'min_child_weight': 4, 'subsample': 1.0},\n",
       "  mean: 0.62266, std: 0.01797, params: {'colsample_bytree': 1.0, 'gamma': 0.4, 'max_depth': 3, 'min_child_weight': 5, 'subsample': 0.6},\n",
       "  mean: 0.62271, std: 0.01843, params: {'colsample_bytree': 1.0, 'gamma': 0.4, 'max_depth': 3, 'min_child_weight': 5, 'subsample': 0.7},\n",
       "  mean: 0.62889, std: 0.01731, params: {'colsample_bytree': 1.0, 'gamma': 0.4, 'max_depth': 3, 'min_child_weight': 5, 'subsample': 0.8},\n",
       "  mean: 0.62840, std: 0.02103, params: {'colsample_bytree': 1.0, 'gamma': 0.4, 'max_depth': 3, 'min_child_weight': 5, 'subsample': 0.9},\n",
       "  mean: 0.63065, std: 0.01744, params: {'colsample_bytree': 1.0, 'gamma': 0.4, 'max_depth': 3, 'min_child_weight': 5, 'subsample': 1.0},\n",
       "  mean: 0.61789, std: 0.01899, params: {'colsample_bytree': 1.0, 'gamma': 0.4, 'max_depth': 4, 'min_child_weight': 4, 'subsample': 0.6},\n",
       "  mean: 0.61958, std: 0.01726, params: {'colsample_bytree': 1.0, 'gamma': 0.4, 'max_depth': 4, 'min_child_weight': 4, 'subsample': 0.7},\n",
       "  mean: 0.62636, std: 0.01203, params: {'colsample_bytree': 1.0, 'gamma': 0.4, 'max_depth': 4, 'min_child_weight': 4, 'subsample': 0.8},\n",
       "  mean: 0.63099, std: 0.01534, params: {'colsample_bytree': 1.0, 'gamma': 0.4, 'max_depth': 4, 'min_child_weight': 4, 'subsample': 0.9},\n",
       "  mean: 0.62569, std: 0.01601, params: {'colsample_bytree': 1.0, 'gamma': 0.4, 'max_depth': 4, 'min_child_weight': 4, 'subsample': 1.0},\n",
       "  mean: 0.61942, std: 0.02074, params: {'colsample_bytree': 1.0, 'gamma': 0.4, 'max_depth': 4, 'min_child_weight': 5, 'subsample': 0.6},\n",
       "  mean: 0.62013, std: 0.01587, params: {'colsample_bytree': 1.0, 'gamma': 0.4, 'max_depth': 4, 'min_child_weight': 5, 'subsample': 0.7},\n",
       "  mean: 0.62054, std: 0.02145, params: {'colsample_bytree': 1.0, 'gamma': 0.4, 'max_depth': 4, 'min_child_weight': 5, 'subsample': 0.8},\n",
       "  mean: 0.62405, std: 0.01891, params: {'colsample_bytree': 1.0, 'gamma': 0.4, 'max_depth': 4, 'min_child_weight': 5, 'subsample': 0.9},\n",
       "  mean: 0.62724, std: 0.01614, params: {'colsample_bytree': 1.0, 'gamma': 0.4, 'max_depth': 4, 'min_child_weight': 5, 'subsample': 1.0},\n",
       "  mean: 0.62229, std: 0.01689, params: {'colsample_bytree': 1.0, 'gamma': 0.5, 'max_depth': 2, 'min_child_weight': 4, 'subsample': 0.6},\n",
       "  mean: 0.62894, std: 0.01784, params: {'colsample_bytree': 1.0, 'gamma': 0.5, 'max_depth': 2, 'min_child_weight': 4, 'subsample': 0.7},\n",
       "  mean: 0.63310, std: 0.01792, params: {'colsample_bytree': 1.0, 'gamma': 0.5, 'max_depth': 2, 'min_child_weight': 4, 'subsample': 0.8},\n",
       "  mean: 0.63334, std: 0.01924, params: {'colsample_bytree': 1.0, 'gamma': 0.5, 'max_depth': 2, 'min_child_weight': 4, 'subsample': 0.9},\n",
       "  mean: 0.63591, std: 0.01605, params: {'colsample_bytree': 1.0, 'gamma': 0.5, 'max_depth': 2, 'min_child_weight': 4, 'subsample': 1.0},\n",
       "  mean: 0.62368, std: 0.01404, params: {'colsample_bytree': 1.0, 'gamma': 0.5, 'max_depth': 2, 'min_child_weight': 5, 'subsample': 0.6},\n",
       "  mean: 0.62847, std: 0.01939, params: {'colsample_bytree': 1.0, 'gamma': 0.5, 'max_depth': 2, 'min_child_weight': 5, 'subsample': 0.7},\n",
       "  mean: 0.63200, std: 0.01947, params: {'colsample_bytree': 1.0, 'gamma': 0.5, 'max_depth': 2, 'min_child_weight': 5, 'subsample': 0.8},\n",
       "  mean: 0.63503, std: 0.01980, params: {'colsample_bytree': 1.0, 'gamma': 0.5, 'max_depth': 2, 'min_child_weight': 5, 'subsample': 0.9},\n",
       "  mean: 0.63279, std: 0.01672, params: {'colsample_bytree': 1.0, 'gamma': 0.5, 'max_depth': 2, 'min_child_weight': 5, 'subsample': 1.0},\n",
       "  mean: 0.62212, std: 0.01759, params: {'colsample_bytree': 1.0, 'gamma': 0.5, 'max_depth': 3, 'min_child_weight': 4, 'subsample': 0.6},\n",
       "  mean: 0.62626, std: 0.01998, params: {'colsample_bytree': 1.0, 'gamma': 0.5, 'max_depth': 3, 'min_child_weight': 4, 'subsample': 0.7},\n",
       "  mean: 0.62653, std: 0.01564, params: {'colsample_bytree': 1.0, 'gamma': 0.5, 'max_depth': 3, 'min_child_weight': 4, 'subsample': 0.8},\n",
       "  mean: 0.62982, std: 0.02034, params: {'colsample_bytree': 1.0, 'gamma': 0.5, 'max_depth': 3, 'min_child_weight': 4, 'subsample': 0.9},\n",
       "  mean: 0.63054, std: 0.01561, params: {'colsample_bytree': 1.0, 'gamma': 0.5, 'max_depth': 3, 'min_child_weight': 4, 'subsample': 1.0},\n",
       "  mean: 0.62125, std: 0.02195, params: {'colsample_bytree': 1.0, 'gamma': 0.5, 'max_depth': 3, 'min_child_weight': 5, 'subsample': 0.6},\n",
       "  mean: 0.62343, std: 0.02367, params: {'colsample_bytree': 1.0, 'gamma': 0.5, 'max_depth': 3, 'min_child_weight': 5, 'subsample': 0.7},\n",
       "  mean: 0.62555, std: 0.02076, params: {'colsample_bytree': 1.0, 'gamma': 0.5, 'max_depth': 3, 'min_child_weight': 5, 'subsample': 0.8},\n",
       "  mean: 0.62965, std: 0.02066, params: {'colsample_bytree': 1.0, 'gamma': 0.5, 'max_depth': 3, 'min_child_weight': 5, 'subsample': 0.9},\n",
       "  mean: 0.62506, std: 0.01924, params: {'colsample_bytree': 1.0, 'gamma': 0.5, 'max_depth': 3, 'min_child_weight': 5, 'subsample': 1.0},\n",
       "  mean: 0.61625, std: 0.02270, params: {'colsample_bytree': 1.0, 'gamma': 0.5, 'max_depth': 4, 'min_child_weight': 4, 'subsample': 0.6},\n",
       "  mean: 0.61444, std: 0.01562, params: {'colsample_bytree': 1.0, 'gamma': 0.5, 'max_depth': 4, 'min_child_weight': 4, 'subsample': 0.7},\n",
       "  mean: 0.62352, std: 0.01646, params: {'colsample_bytree': 1.0, 'gamma': 0.5, 'max_depth': 4, 'min_child_weight': 4, 'subsample': 0.8},\n",
       "  mean: 0.63258, std: 0.02038, params: {'colsample_bytree': 1.0, 'gamma': 0.5, 'max_depth': 4, 'min_child_weight': 4, 'subsample': 0.9},\n",
       "  mean: 0.62706, std: 0.01703, params: {'colsample_bytree': 1.0, 'gamma': 0.5, 'max_depth': 4, 'min_child_weight': 4, 'subsample': 1.0},\n",
       "  mean: 0.61889, std: 0.01638, params: {'colsample_bytree': 1.0, 'gamma': 0.5, 'max_depth': 4, 'min_child_weight': 5, 'subsample': 0.6},\n",
       "  mean: 0.61479, std: 0.01805, params: {'colsample_bytree': 1.0, 'gamma': 0.5, 'max_depth': 4, 'min_child_weight': 5, 'subsample': 0.7},\n",
       "  mean: 0.62192, std: 0.01633, params: {'colsample_bytree': 1.0, 'gamma': 0.5, 'max_depth': 4, 'min_child_weight': 5, 'subsample': 0.8},\n",
       "  mean: 0.62935, std: 0.01731, params: {'colsample_bytree': 1.0, 'gamma': 0.5, 'max_depth': 4, 'min_child_weight': 5, 'subsample': 0.9},\n",
       "  mean: 0.62843, std: 0.01941, params: {'colsample_bytree': 1.0, 'gamma': 0.5, 'max_depth': 4, 'min_child_weight': 5, 'subsample': 1.0}],\n",
       " {'colsample_bytree': 0.6,\n",
       "  'gamma': 0.3,\n",
       "  'max_depth': 2,\n",
       "  'min_child_weight': 4,\n",
       "  'subsample': 1.0},\n",
       " 0.63781639765593234)"
      ]
     },
     "execution_count": 28,
     "metadata": {},
     "output_type": "execute_result"
    }
   ],
   "source": [
    "params = {'min_child_weight':[4,5], 'gamma':[i/10.0 for i in range(3,6)],  'subsample':[i/10.0 for i in range(6,11)],\n",
    "'colsample_bytree':[i/10.0 for i in range(6,11)], 'max_depth': [2,3,4]}\n",
    "\n",
    "gsearch1 = GridSearchCV(estimator = XGBClassifier( learning_rate =0.1, n_estimators=500, max_depth=5,\n",
    " min_child_weight=1, gamma=0, subsample=0.8, colsample_bytree=0.8,\n",
    " objective= 'binary:logistic', nthread=4, scale_pos_weight=1, seed=27, n_threads=-1), \n",
    " param_grid = params, scoring='roc_auc',n_jobs=4,iid=False, cv=5)\n",
    "gsearch1.fit(train1,Y)\n",
    "gsearch1.grid_scores_, gsearch1.best_params_, gsearch1.best_score_"
   ]
  },
  {
   "cell_type": "code",
   "execution_count": null,
   "metadata": {},
   "outputs": [],
   "source": []
  },
  {
   "cell_type": "code",
   "execution_count": null,
   "metadata": {},
   "outputs": [],
   "source": []
  }
 ],
 "metadata": {
  "kernelspec": {
   "display_name": "Python 3",
   "language": "python",
   "name": "python3"
  },
  "language_info": {
   "codemirror_mode": {
    "name": "ipython",
    "version": 3
   },
   "file_extension": ".py",
   "mimetype": "text/x-python",
   "name": "python",
   "nbconvert_exporter": "python",
   "pygments_lexer": "ipython3",
   "version": "3.6.3"
  }
 },
 "nbformat": 4,
 "nbformat_minor": 2
}
